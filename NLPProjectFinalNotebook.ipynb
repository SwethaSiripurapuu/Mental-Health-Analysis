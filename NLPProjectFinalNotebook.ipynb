{
 "cells": [
  {
   "cell_type": "markdown",
   "id": "86272e87",
   "metadata": {
    "id": "86272e87"
   },
   "source": [
    "## Importing necessary packages"
   ]
  },
  {
   "cell_type": "code",
   "execution_count": 1,
   "id": "3520d74d",
   "metadata": {
    "id": "3520d74d"
   },
   "outputs": [],
   "source": [
    "import pandas as pd\n",
    "import numpy as np"
   ]
  },
  {
   "cell_type": "code",
   "execution_count": 2,
   "id": "69f53722",
   "metadata": {
    "id": "69f53722"
   },
   "outputs": [],
   "source": [
    "# Reading the data\n",
    "df=pd.read_csv('/content/mental_health_data.csv')"
   ]
  },
  {
   "cell_type": "code",
   "execution_count": 3,
   "id": "9d45c3d0",
   "metadata": {
    "colab": {
     "base_uri": "https://localhost:8080/"
    },
    "id": "9d45c3d0",
    "outputId": "ae862b03-73e4-4cfa-e4f4-0efac2d58a66"
   },
   "outputs": [
    {
     "data": {
      "text/plain": [
       "mentalhealth          999\n",
       "Anxiety               998\n",
       "BPD                   991\n",
       "SuicideWatch          975\n",
       "depression            912\n",
       "CasualConversation    810\n",
       "bipolar               554\n",
       "Name: subreddit, dtype: int64"
      ]
     },
     "execution_count": 3,
     "metadata": {},
     "output_type": "execute_result"
    }
   ],
   "source": [
    "# Checking the count of posts from Various Subreddits\n",
    "df['subreddit'].value_counts()"
   ]
  },
  {
   "cell_type": "code",
   "execution_count": 4,
   "id": "a5d0cc52",
   "metadata": {
    "colab": {
     "base_uri": "https://localhost:8080/"
    },
    "id": "a5d0cc52",
    "outputId": "bf3156d0-22d1-43f6-e806-48a0eff794d7"
   },
   "outputs": [
    {
     "data": {
      "text/plain": [
       "Unnamed: 0        0\n",
       "title             0\n",
       "body            316\n",
       "author           26\n",
       "url               0\n",
       "score             0\n",
       "upvote_ratio      0\n",
       "subreddit         0\n",
       "dtype: int64"
      ]
     },
     "execution_count": 4,
     "metadata": {},
     "output_type": "execute_result"
    }
   ],
   "source": [
    "#Checking for NA values\n",
    "df.isna().sum()"
   ]
  },
  {
   "cell_type": "code",
   "execution_count": 5,
   "id": "6525334d",
   "metadata": {
    "colab": {
     "base_uri": "https://localhost:8080/",
     "height": 419
    },
    "id": "6525334d",
    "outputId": "7065282b-6d63-4217-d8df-12dfd72b9ebb"
   },
   "outputs": [
    {
     "data": {
      "text/html": [
       "\n",
       "  <div id=\"df-66d4dbe6-b8a8-4897-a1e3-359eadc1d8cd\">\n",
       "    <div class=\"colab-df-container\">\n",
       "      <div>\n",
       "<style scoped>\n",
       "    .dataframe tbody tr th:only-of-type {\n",
       "        vertical-align: middle;\n",
       "    }\n",
       "\n",
       "    .dataframe tbody tr th {\n",
       "        vertical-align: top;\n",
       "    }\n",
       "\n",
       "    .dataframe thead th {\n",
       "        text-align: right;\n",
       "    }\n",
       "</style>\n",
       "<table border=\"1\" class=\"dataframe\">\n",
       "  <thead>\n",
       "    <tr style=\"text-align: right;\">\n",
       "      <th></th>\n",
       "      <th>Unnamed: 0</th>\n",
       "      <th>title</th>\n",
       "      <th>body</th>\n",
       "      <th>author</th>\n",
       "      <th>url</th>\n",
       "      <th>score</th>\n",
       "      <th>upvote_ratio</th>\n",
       "      <th>subreddit</th>\n",
       "    </tr>\n",
       "  </thead>\n",
       "  <tbody>\n",
       "    <tr>\n",
       "      <th>11</th>\n",
       "      <td>11</td>\n",
       "      <td>LPT: Learn to distance yourself from your thou...</td>\n",
       "      <td>NaN</td>\n",
       "      <td>ChillingInChai</td>\n",
       "      <td>/r/LifeProTips/comments/n3loxq/lpt_learn_to_di...</td>\n",
       "      <td>2</td>\n",
       "      <td>1.00</td>\n",
       "      <td>mentalhealth</td>\n",
       "    </tr>\n",
       "    <tr>\n",
       "      <th>72</th>\n",
       "      <td>72</td>\n",
       "      <td>Lifelong neglect and abuse has led me unable t...</td>\n",
       "      <td>NaN</td>\n",
       "      <td>Ctantkeeper</td>\n",
       "      <td>/r/selfimprovement/comments/n3h3vv/lifelong_ne...</td>\n",
       "      <td>2</td>\n",
       "      <td>1.00</td>\n",
       "      <td>mentalhealth</td>\n",
       "    </tr>\n",
       "    <tr>\n",
       "      <th>213</th>\n",
       "      <td>213</td>\n",
       "      <td>Loving again</td>\n",
       "      <td>NaN</td>\n",
       "      <td>hrundiskel</td>\n",
       "      <td>/r/relationship_advice/comments/n3epx7/do_you_...</td>\n",
       "      <td>1</td>\n",
       "      <td>1.00</td>\n",
       "      <td>mentalhealth</td>\n",
       "    </tr>\n",
       "    <tr>\n",
       "      <th>255</th>\n",
       "      <td>255</td>\n",
       "      <td>My mum is emotionally, verbally and at times p...</td>\n",
       "      <td>NaN</td>\n",
       "      <td>JackDoe1324</td>\n",
       "      <td>/r/domesticviolence/comments/n30v3n/my_mum_is_...</td>\n",
       "      <td>5</td>\n",
       "      <td>0.86</td>\n",
       "      <td>mentalhealth</td>\n",
       "    </tr>\n",
       "    <tr>\n",
       "      <th>260</th>\n",
       "      <td>260</td>\n",
       "      <td>I’m so scared</td>\n",
       "      <td>NaN</td>\n",
       "      <td>robsie123</td>\n",
       "      <td>/r/Paranoia/comments/n39e1m/im_so_scared/</td>\n",
       "      <td>1</td>\n",
       "      <td>1.00</td>\n",
       "      <td>mentalhealth</td>\n",
       "    </tr>\n",
       "    <tr>\n",
       "      <th>...</th>\n",
       "      <td>...</td>\n",
       "      <td>...</td>\n",
       "      <td>...</td>\n",
       "      <td>...</td>\n",
       "      <td>...</td>\n",
       "      <td>...</td>\n",
       "      <td>...</td>\n",
       "      <td>...</td>\n",
       "    </tr>\n",
       "    <tr>\n",
       "      <th>5312</th>\n",
       "      <td>5312</td>\n",
       "      <td>Is hanging the easiest and least painful way t...</td>\n",
       "      <td>NaN</td>\n",
       "      <td>PaceJust</td>\n",
       "      <td>https://www.reddit.com/r/SuicideWatch/comments...</td>\n",
       "      <td>2</td>\n",
       "      <td>1.00</td>\n",
       "      <td>SuicideWatch</td>\n",
       "    </tr>\n",
       "    <tr>\n",
       "      <th>5325</th>\n",
       "      <td>5325</td>\n",
       "      <td>I suffer from severe hyperacusis and Tinnitus....</td>\n",
       "      <td>NaN</td>\n",
       "      <td>Acceptable_Slide_667</td>\n",
       "      <td>https://www.reddit.com/r/SuicideWatch/comments...</td>\n",
       "      <td>3</td>\n",
       "      <td>1.00</td>\n",
       "      <td>SuicideWatch</td>\n",
       "    </tr>\n",
       "    <tr>\n",
       "      <th>5341</th>\n",
       "      <td>5341</td>\n",
       "      <td>My boyfriend of four years dumped me. My best ...</td>\n",
       "      <td>NaN</td>\n",
       "      <td>Ahunteriwillbe</td>\n",
       "      <td>https://www.reddit.com/r/SuicideWatch/comments...</td>\n",
       "      <td>3</td>\n",
       "      <td>0.80</td>\n",
       "      <td>SuicideWatch</td>\n",
       "    </tr>\n",
       "    <tr>\n",
       "      <th>5353</th>\n",
       "      <td>5353</td>\n",
       "      <td>My fiance is about to dump me</td>\n",
       "      <td>NaN</td>\n",
       "      <td>Throwaway2710383952</td>\n",
       "      <td>https://www.reddit.com/r/SuicideWatch/comments...</td>\n",
       "      <td>2</td>\n",
       "      <td>1.00</td>\n",
       "      <td>SuicideWatch</td>\n",
       "    </tr>\n",
       "    <tr>\n",
       "      <th>5365</th>\n",
       "      <td>5365</td>\n",
       "      <td>I’m having suicidal thoughts</td>\n",
       "      <td>NaN</td>\n",
       "      <td>Forever-A-Loner999</td>\n",
       "      <td>https://www.reddit.com/r/SuicideWatch/comments...</td>\n",
       "      <td>2</td>\n",
       "      <td>1.00</td>\n",
       "      <td>SuicideWatch</td>\n",
       "    </tr>\n",
       "  </tbody>\n",
       "</table>\n",
       "<p>316 rows × 8 columns</p>\n",
       "</div>\n",
       "      <button class=\"colab-df-convert\" onclick=\"convertToInteractive('df-66d4dbe6-b8a8-4897-a1e3-359eadc1d8cd')\"\n",
       "              title=\"Convert this dataframe to an interactive table.\"\n",
       "              style=\"display:none;\">\n",
       "        \n",
       "  <svg xmlns=\"http://www.w3.org/2000/svg\" height=\"24px\"viewBox=\"0 0 24 24\"\n",
       "       width=\"24px\">\n",
       "    <path d=\"M0 0h24v24H0V0z\" fill=\"none\"/>\n",
       "    <path d=\"M18.56 5.44l.94 2.06.94-2.06 2.06-.94-2.06-.94-.94-2.06-.94 2.06-2.06.94zm-11 1L8.5 8.5l.94-2.06 2.06-.94-2.06-.94L8.5 2.5l-.94 2.06-2.06.94zm10 10l.94 2.06.94-2.06 2.06-.94-2.06-.94-.94-2.06-.94 2.06-2.06.94z\"/><path d=\"M17.41 7.96l-1.37-1.37c-.4-.4-.92-.59-1.43-.59-.52 0-1.04.2-1.43.59L10.3 9.45l-7.72 7.72c-.78.78-.78 2.05 0 2.83L4 21.41c.39.39.9.59 1.41.59.51 0 1.02-.2 1.41-.59l7.78-7.78 2.81-2.81c.8-.78.8-2.07 0-2.86zM5.41 20L4 18.59l7.72-7.72 1.47 1.35L5.41 20z\"/>\n",
       "  </svg>\n",
       "      </button>\n",
       "      \n",
       "  <style>\n",
       "    .colab-df-container {\n",
       "      display:flex;\n",
       "      flex-wrap:wrap;\n",
       "      gap: 12px;\n",
       "    }\n",
       "\n",
       "    .colab-df-convert {\n",
       "      background-color: #E8F0FE;\n",
       "      border: none;\n",
       "      border-radius: 50%;\n",
       "      cursor: pointer;\n",
       "      display: none;\n",
       "      fill: #1967D2;\n",
       "      height: 32px;\n",
       "      padding: 0 0 0 0;\n",
       "      width: 32px;\n",
       "    }\n",
       "\n",
       "    .colab-df-convert:hover {\n",
       "      background-color: #E2EBFA;\n",
       "      box-shadow: 0px 1px 2px rgba(60, 64, 67, 0.3), 0px 1px 3px 1px rgba(60, 64, 67, 0.15);\n",
       "      fill: #174EA6;\n",
       "    }\n",
       "\n",
       "    [theme=dark] .colab-df-convert {\n",
       "      background-color: #3B4455;\n",
       "      fill: #D2E3FC;\n",
       "    }\n",
       "\n",
       "    [theme=dark] .colab-df-convert:hover {\n",
       "      background-color: #434B5C;\n",
       "      box-shadow: 0px 1px 3px 1px rgba(0, 0, 0, 0.15);\n",
       "      filter: drop-shadow(0px 1px 2px rgba(0, 0, 0, 0.3));\n",
       "      fill: #FFFFFF;\n",
       "    }\n",
       "  </style>\n",
       "\n",
       "      <script>\n",
       "        const buttonEl =\n",
       "          document.querySelector('#df-66d4dbe6-b8a8-4897-a1e3-359eadc1d8cd button.colab-df-convert');\n",
       "        buttonEl.style.display =\n",
       "          google.colab.kernel.accessAllowed ? 'block' : 'none';\n",
       "\n",
       "        async function convertToInteractive(key) {\n",
       "          const element = document.querySelector('#df-66d4dbe6-b8a8-4897-a1e3-359eadc1d8cd');\n",
       "          const dataTable =\n",
       "            await google.colab.kernel.invokeFunction('convertToInteractive',\n",
       "                                                     [key], {});\n",
       "          if (!dataTable) return;\n",
       "\n",
       "          const docLinkHtml = 'Like what you see? Visit the ' +\n",
       "            '<a target=\"_blank\" href=https://colab.research.google.com/notebooks/data_table.ipynb>data table notebook</a>'\n",
       "            + ' to learn more about interactive tables.';\n",
       "          element.innerHTML = '';\n",
       "          dataTable['output_type'] = 'display_data';\n",
       "          await google.colab.output.renderOutput(dataTable, element);\n",
       "          const docLink = document.createElement('div');\n",
       "          docLink.innerHTML = docLinkHtml;\n",
       "          element.appendChild(docLink);\n",
       "        }\n",
       "      </script>\n",
       "    </div>\n",
       "  </div>\n",
       "  "
      ],
      "text/plain": [
       "      Unnamed: 0                                              title body  \\\n",
       "11            11  LPT: Learn to distance yourself from your thou...  NaN   \n",
       "72            72  Lifelong neglect and abuse has led me unable t...  NaN   \n",
       "213          213                                       Loving again  NaN   \n",
       "255          255  My mum is emotionally, verbally and at times p...  NaN   \n",
       "260          260                                      I’m so scared  NaN   \n",
       "...          ...                                                ...  ...   \n",
       "5312        5312  Is hanging the easiest and least painful way t...  NaN   \n",
       "5325        5325  I suffer from severe hyperacusis and Tinnitus....  NaN   \n",
       "5341        5341  My boyfriend of four years dumped me. My best ...  NaN   \n",
       "5353        5353                      My fiance is about to dump me  NaN   \n",
       "5365        5365                       I’m having suicidal thoughts  NaN   \n",
       "\n",
       "                    author                                                url  \\\n",
       "11          ChillingInChai  /r/LifeProTips/comments/n3loxq/lpt_learn_to_di...   \n",
       "72             Ctantkeeper  /r/selfimprovement/comments/n3h3vv/lifelong_ne...   \n",
       "213             hrundiskel  /r/relationship_advice/comments/n3epx7/do_you_...   \n",
       "255            JackDoe1324  /r/domesticviolence/comments/n30v3n/my_mum_is_...   \n",
       "260              robsie123          /r/Paranoia/comments/n39e1m/im_so_scared/   \n",
       "...                    ...                                                ...   \n",
       "5312              PaceJust  https://www.reddit.com/r/SuicideWatch/comments...   \n",
       "5325  Acceptable_Slide_667  https://www.reddit.com/r/SuicideWatch/comments...   \n",
       "5341        Ahunteriwillbe  https://www.reddit.com/r/SuicideWatch/comments...   \n",
       "5353   Throwaway2710383952  https://www.reddit.com/r/SuicideWatch/comments...   \n",
       "5365    Forever-A-Loner999  https://www.reddit.com/r/SuicideWatch/comments...   \n",
       "\n",
       "      score  upvote_ratio     subreddit  \n",
       "11        2          1.00  mentalhealth  \n",
       "72        2          1.00  mentalhealth  \n",
       "213       1          1.00  mentalhealth  \n",
       "255       5          0.86  mentalhealth  \n",
       "260       1          1.00  mentalhealth  \n",
       "...     ...           ...           ...  \n",
       "5312      2          1.00  SuicideWatch  \n",
       "5325      3          1.00  SuicideWatch  \n",
       "5341      3          0.80  SuicideWatch  \n",
       "5353      2          1.00  SuicideWatch  \n",
       "5365      2          1.00  SuicideWatch  \n",
       "\n",
       "[316 rows x 8 columns]"
      ]
     },
     "execution_count": 5,
     "metadata": {},
     "output_type": "execute_result"
    }
   ],
   "source": [
    "# Filtering out rows where the body is null\n",
    "df[df['body'].isna()]"
   ]
  },
  {
   "cell_type": "code",
   "execution_count": 6,
   "id": "e46a3853",
   "metadata": {
    "id": "e46a3853"
   },
   "outputs": [],
   "source": [
    "# adding a new column combining title and body of the post\n",
    "df = df[~((df['body'].isna()) & (df['subreddit'].isin(['bipolar', 'mentalhealth'])))].reset_index().drop('index', axis=1)\n",
    "\n",
    "df.fillna('', inplace=True)\n",
    "\n",
    "df['full_text'] = df['title'] + \" \" + df['body']"
   ]
  },
  {
   "cell_type": "code",
   "execution_count": 7,
   "id": "2c03f54b",
   "metadata": {
    "id": "2c03f54b"
   },
   "outputs": [],
   "source": [
    "# Grouping the posts based on author to check for multiple posts from the same author\n",
    "author = df.groupby(['subreddit','author']).count()"
   ]
  },
  {
   "cell_type": "code",
   "execution_count": 8,
   "id": "e002942a",
   "metadata": {
    "colab": {
     "base_uri": "https://localhost:8080/"
    },
    "id": "e002942a",
    "outputId": "b3b1fc9e-1ef8-4b93-e5a9-667c9704a93e"
   },
   "outputs": [
    {
     "data": {
      "text/plain": [
       "Index(['mothsandhoneydew', 'FelicityOfficial', 'hokeydokeydoo', 'Swappy-',\n",
       "       'XX_mel_XX', 'AnonymousCounselor52', 'Busy-Chapter-2462',\n",
       "       'Emotional-Treat-4523', 'imsorry_stillalive', 'Randumby194',\n",
       "       'Far-Shape-4319', 'ConnecticutJohn', 'unit213x', 'Zeetrocheze',\n",
       "       'starchild71', 'Critical_Shirt_2398', 'shootme_co', 'nsr-12309',\n",
       "       'HelpPlease6537', 'rotwice'],\n",
       "      dtype='object', name='author')"
      ]
     },
     "execution_count": 8,
     "metadata": {},
     "output_type": "execute_result"
    }
   ],
   "source": [
    "# Checking authors having posts with high scores(Checking for popularity of posts)\n",
    "authors_top_score = df[df['subreddit']==\"mentalhealth\"].groupby(['author']).score.mean().sort_values(ascending = False)[:20].index\n",
    "authors_top_score"
   ]
  },
  {
   "cell_type": "code",
   "execution_count": 9,
   "id": "c2175771",
   "metadata": {
    "colab": {
     "base_uri": "https://localhost:8080/"
    },
    "id": "c2175771",
    "outputId": "850286ff-2408-4293-89eb-9e1d3f4cde70"
   },
   "outputs": [
    {
     "data": {
      "text/plain": [
       "author\n",
       "mothsandhoneydew        669.0\n",
       "FelicityOfficial        618.0\n",
       "hokeydokeydoo           416.0\n",
       "Swappy-                 406.0\n",
       "XX_mel_XX               393.0\n",
       "AnonymousCounselor52    387.0\n",
       "Busy-Chapter-2462       296.0\n",
       "Emotional-Treat-4523    240.0\n",
       "imsorry_stillalive      189.0\n",
       "Randumby194             152.0\n",
       "Far-Shape-4319          130.0\n",
       "ConnecticutJohn         112.0\n",
       "unit213x                 69.0\n",
       "Zeetrocheze              42.0\n",
       "starchild71              39.0\n",
       "Critical_Shirt_2398      37.0\n",
       "shootme_co               36.0\n",
       "nsr-12309                36.0\n",
       "HelpPlease6537           28.0\n",
       "rotwice                  26.0\n",
       "Name: score, dtype: float64"
      ]
     },
     "execution_count": 9,
     "metadata": {},
     "output_type": "execute_result"
    }
   ],
   "source": [
    "# Calculating mean of scores for subreddits\n",
    "df[df['subreddit']==\"mentalhealth\"].groupby(['author']).score.mean().sort_values(ascending = False)[:20]"
   ]
  },
  {
   "cell_type": "code",
   "execution_count": 10,
   "id": "cd3fbe0c",
   "metadata": {
    "colab": {
     "base_uri": "https://localhost:8080/"
    },
    "id": "cd3fbe0c",
    "outputId": "4f51a897-0337-4b96-ac55-cf1ff27fe0c7"
   },
   "outputs": [
    {
     "name": "stdout",
     "output_type": "stream",
     "text": [
      "Today I'm glad I'm alive.  \n",
      "\n",
      "I stared a new antidepressant, and I feel okay. \n",
      "\n",
      " My sweet coworker (who I don't know too well) asked me excitedly when I was working with her next \n",
      "\n",
      "My friends were happy and seemed mentally healthy, after many weeks of uphill battles (very proud of them).\n",
      "\n",
      "I went on a picnic during lunch break with them. It felt good to sit in the grass and see them smile \n",
      "\n",
      "I came out gently to one of my friends and it was very casual, loving, and well recieved. \n",
      "\n",
      "I spent some good quality time with my mom. \n",
      "\n",
      "I am set up to get a cat tomorrow! This is big for me, and was my only motivation to live so it brings me happiness to see it coming together. It makes me feel like I should be alive.\n"
     ]
    }
   ],
   "source": [
    "# Printing one of the post with a high score to check for the content\n",
    "for i in authors_top_score:\n",
    "  print(df[df['author']==\"mothsandhoneydew\"]['body'].iloc[0])\n",
    "  break"
   ]
  },
  {
   "cell_type": "code",
   "execution_count": 11,
   "id": "7fe286f0",
   "metadata": {
    "id": "7fe286f0"
   },
   "outputs": [],
   "source": [
    "# Performing Reddit specific preprocessing to remove the markdown formatting\n",
    "import re\n",
    "def reddit_specific_preprocessing(text):\n",
    "    \n",
    "    # Remove newlines (one or more)\n",
    "    text = re.sub(r'\\n+', ' ', text)\n",
    "\n",
    "    # Remove quotes\n",
    "    text = re.sub(r'\\\"?\\\\?&?gt;?', '', text)\n",
    "\n",
    "    # Remove asterisk\n",
    "    text = re.sub(r'\\*', '', text)\n",
    "\n",
    "    # Remove bullet points\n",
    "    text = re.sub('&amp;#x200B;', '', text)\n",
    "\n",
    "    # Remove links (always enclosed between parenthesis)\n",
    "    text = re.sub(r'\\[.*?\\]\\(.*?\\)', '', text)\n",
    "\n",
    "    # Remove strikethroughs\n",
    "    text = re.sub('~', '', text)\n",
    "\n",
    "    # Remove spoilers, which is used with < less-than (Preserves the text)\n",
    "    text = re.sub('&lt;', '', text)\n",
    "    text = re.sub(r'!(.*?)!', r'\\1', text)\n",
    "\n",
    "    # Code, inline and block\n",
    "    text = re.sub('`', '', text)\n",
    "\n",
    "    # Superscript (Preserves the text)\n",
    "    text = re.sub(r'\\^\\((.*?)\\)', r'\\1', text)\n",
    "\n",
    "    # Table\n",
    "    text = re.sub(r'\\|', ' ', text)\n",
    "    text = re.sub(':-', '', text)\n",
    "\n",
    "    # Heading\n",
    "    text = re.sub('#', '', text)\n",
    "\n",
    "    # Clean white spaces\n",
    "    text = text.strip()\n",
    "    text = re.sub(r'\\s\\s+', ' ', text)\n",
    "\n",
    "    return text"
   ]
  },
  {
   "cell_type": "code",
   "execution_count": 12,
   "id": "5d52e17b",
   "metadata": {
    "id": "5d52e17b"
   },
   "outputs": [],
   "source": [
    "# Preparing a subset of the data and storing it in a new dataframe\n",
    "df_preprocessing = df[[\"subreddit\", 'url', 'full_text']].copy()"
   ]
  },
  {
   "cell_type": "code",
   "execution_count": 13,
   "id": "61c6c6b5",
   "metadata": {
    "id": "61c6c6b5"
   },
   "outputs": [],
   "source": [
    "# Applying reddit specific preprocessing\n",
    "df_preprocessing['01_reddit_specific'] = df_preprocessing['full_text'].apply(lambda text: reddit_specific_preprocessing(text))"
   ]
  },
  {
   "cell_type": "code",
   "execution_count": 14,
   "id": "ad2b880c",
   "metadata": {
    "colab": {
     "base_uri": "https://localhost:8080/",
     "height": 88
    },
    "id": "ad2b880c",
    "outputId": "8e2239a4-d358-4c29-8053-29ffb15ac57c"
   },
   "outputs": [
    {
     "data": {
      "application/vnd.google.colaboratory.intrinsic+json": {
       "type": "string"
      },
      "text/plain": [
       "'Craving closeness About a year ago, I got into a relationship that lasted until December 2020. I was the one that broke up. I loved her, but I didn’t see a satisfying future for me, so it was a tough decision to make. The problem is that I now really crave the closeness I had with her, cause I don’t really get that with anyone else. I want the love we had for each other with someone else, and it’s really annoying. I want the spooning, the sex, everything. I’m only 18, so it’s probably not something I should be thinking about, but I do. Is this normal, or should I seek help?'"
      ]
     },
     "execution_count": 14,
     "metadata": {},
     "output_type": "execute_result"
    }
   ],
   "source": [
    "# Printing out a message\n",
    "df_preprocessing['01_reddit_specific'][0]"
   ]
  },
  {
   "cell_type": "code",
   "execution_count": 15,
   "id": "e47e9fe4",
   "metadata": {
    "colab": {
     "base_uri": "https://localhost:8080/"
    },
    "id": "e47e9fe4",
    "outputId": "8b938e5b-2c33-4283-8481-06df9d5fed7c"
   },
   "outputs": [
    {
     "name": "stdout",
     "output_type": "stream",
     "text": [
      "[nltk_data] Downloading package stopwords to /root/nltk_data...\n",
      "[nltk_data]   Package stopwords is already up-to-date!\n",
      "[nltk_data] Downloading package punkt to /root/nltk_data...\n",
      "[nltk_data]   Package punkt is already up-to-date!\n"
     ]
    },
    {
     "data": {
      "text/plain": [
       "True"
      ]
     },
     "execution_count": 15,
     "metadata": {},
     "output_type": "execute_result"
    }
   ],
   "source": [
    "# Importing nltk package\n",
    "import nltk\n",
    "nltk.download('stopwords')\n",
    "nltk.download('punkt')"
   ]
  },
  {
   "cell_type": "code",
   "execution_count": 16,
   "id": "ad54d3ed",
   "metadata": {
    "colab": {
     "base_uri": "https://localhost:8080/"
    },
    "id": "ad54d3ed",
    "outputId": "abcc3026-dcc7-4626-cbaf-75016f2f03b2"
   },
   "outputs": [
    {
     "name": "stdout",
     "output_type": "stream",
     "text": [
      "[nltk_data] Downloading package omw-1.4 to /root/nltk_data...\n",
      "[nltk_data]   Package omw-1.4 is already up-to-date!\n"
     ]
    },
    {
     "data": {
      "text/plain": [
       "True"
      ]
     },
     "execution_count": 16,
     "metadata": {},
     "output_type": "execute_result"
    }
   ],
   "source": [
    "nltk.download('omw-1.4')"
   ]
  },
  {
   "cell_type": "code",
   "execution_count": 17,
   "id": "f6771885",
   "metadata": {
    "colab": {
     "base_uri": "https://localhost:8080/"
    },
    "id": "f6771885",
    "outputId": "af9e6408-c96e-4191-cbce-b3d9b8d34e27"
   },
   "outputs": [
    {
     "name": "stdout",
     "output_type": "stream",
     "text": [
      "[nltk_data] Downloading package wordnet to /root/nltk_data...\n",
      "[nltk_data]   Package wordnet is already up-to-date!\n"
     ]
    }
   ],
   "source": [
    "# Implementing a function to perform stopword removal, removing punctuations and performing lemmatization\n",
    "from nltk.corpus import stopwords\n",
    "from nltk.tokenize import word_tokenize\n",
    "from nltk.stem import PorterStemmer, WordNetLemmatizer\n",
    "import re\n",
    "import nltk\n",
    "nltk.download('wordnet')\n",
    "def clean_message(message):\n",
    "    '''\n",
    "    Input:\n",
    "        message: a string containing a message.\n",
    "    Output:\n",
    "        messages_cleaned: a list of words containing the processed message. \n",
    "\n",
    "    '''\n",
    "    stem = PorterStemmer()\n",
    "    lemma = WordNetLemmatizer()\n",
    "    stop_words = set(stopwords.words(\"english\"))\n",
    "    messages_cleaned = []\n",
    "    message = word_tokenize(message)\n",
    "    for i in message:\n",
    "        \n",
    "        if i.lower() not in stop_words and i.isalnum():\n",
    "                messages_cleaned.append(re.sub(r'http\\S+', '', lemma.lemmatize(i.lower())))\n",
    "    \n",
    "    return \" \".join(messages_cleaned)"
   ]
  },
  {
   "cell_type": "code",
   "execution_count": 18,
   "id": "d536f306",
   "metadata": {
    "id": "d536f306"
   },
   "outputs": [],
   "source": [
    "# applying the clean_message function to the text\n",
    "df_preprocessing['cleaned_text'] = df_preprocessing[\"01_reddit_specific\"].apply(clean_message)\n"
   ]
  },
  {
   "cell_type": "code",
   "execution_count": 19,
   "id": "7105f29d",
   "metadata": {
    "colab": {
     "base_uri": "https://localhost:8080/"
    },
    "id": "7105f29d",
    "outputId": "f45426ba-2f3a-4752-89f6-051e2ffa9b30"
   },
   "outputs": [
    {
     "name": "stdout",
     "output_type": "stream",
     "text": [
      "Requirement already satisfied: langdetect in /usr/local/lib/python3.7/dist-packages (1.0.9)\n",
      "Requirement already satisfied: six in /usr/local/lib/python3.7/dist-packages (from langdetect) (1.15.0)\n"
     ]
    }
   ],
   "source": [
    "# Installing langdetect package\n",
    "!pip install langdetect"
   ]
  },
  {
   "cell_type": "code",
   "execution_count": 20,
   "id": "43b87158",
   "metadata": {
    "id": "43b87158"
   },
   "outputs": [],
   "source": [
    "# Calculating the count of posts from various languages\n",
    "import langdetect\n",
    "\n",
    "l=[]\n",
    "for i in range(len(df_preprocessing)):\n",
    "    try:\n",
    "        l.append(langdetect.detect(df_preprocessing[\"cleaned_text\"].iloc[i]))\n",
    "    except:\n",
    "        pass"
   ]
  },
  {
   "cell_type": "code",
   "execution_count": 21,
   "id": "f8c0554a",
   "metadata": {
    "id": "f8c0554a"
   },
   "outputs": [],
   "source": [
    "count = 0\n",
    "index = []\n",
    "for i in range(len(l)):\n",
    "    if l[i] == 'en':\n",
    "        index.append(i)\n",
    "        count+=1\n",
    "    else:\n",
    "        pass"
   ]
  },
  {
   "cell_type": "code",
   "execution_count": 22,
   "id": "34e6ea44",
   "metadata": {
    "colab": {
     "base_uri": "https://localhost:8080/",
     "height": 633
    },
    "id": "34e6ea44",
    "outputId": "9f6d18ad-538d-4f0e-ac41-3668a13ba120"
   },
   "outputs": [
    {
     "data": {
      "text/html": [
       "\n",
       "  <div id=\"df-fe7fc15c-087e-483a-8d13-8a8738530538\">\n",
       "    <div class=\"colab-df-container\">\n",
       "      <div>\n",
       "<style scoped>\n",
       "    .dataframe tbody tr th:only-of-type {\n",
       "        vertical-align: middle;\n",
       "    }\n",
       "\n",
       "    .dataframe tbody tr th {\n",
       "        vertical-align: top;\n",
       "    }\n",
       "\n",
       "    .dataframe thead th {\n",
       "        text-align: right;\n",
       "    }\n",
       "</style>\n",
       "<table border=\"1\" class=\"dataframe\">\n",
       "  <thead>\n",
       "    <tr style=\"text-align: right;\">\n",
       "      <th></th>\n",
       "      <th>subreddit</th>\n",
       "      <th>url</th>\n",
       "      <th>full_text</th>\n",
       "      <th>01_reddit_specific</th>\n",
       "      <th>cleaned_text</th>\n",
       "    </tr>\n",
       "  </thead>\n",
       "  <tbody>\n",
       "    <tr>\n",
       "      <th>0</th>\n",
       "      <td>mentalhealth</td>\n",
       "      <td>https://www.reddit.com/r/mentalhealth/comments...</td>\n",
       "      <td>Craving closeness About a year ago, I got into...</td>\n",
       "      <td>Craving closeness About a year ago, I got into...</td>\n",
       "      <td>craving closeness year ago got relationship la...</td>\n",
       "    </tr>\n",
       "    <tr>\n",
       "      <th>1</th>\n",
       "      <td>mentalhealth</td>\n",
       "      <td>https://www.reddit.com/r/mentalhealth/comments...</td>\n",
       "      <td>Mental health class I think schools should hav...</td>\n",
       "      <td>Mental health class I think schools should hav...</td>\n",
       "      <td>mental health class think school mandatory men...</td>\n",
       "    </tr>\n",
       "    <tr>\n",
       "      <th>2</th>\n",
       "      <td>mentalhealth</td>\n",
       "      <td>https://www.reddit.com/r/mentalhealth/comments...</td>\n",
       "      <td>My 7yo son accidentally fell on our pet bird a...</td>\n",
       "      <td>My 7yo son accidentally fell on our pet bird a...</td>\n",
       "      <td>7yo son accidentally fell pet bird killed 11 y...</td>\n",
       "    </tr>\n",
       "    <tr>\n",
       "      <th>3</th>\n",
       "      <td>mentalhealth</td>\n",
       "      <td>https://www.reddit.com/r/mentalhealth/comments...</td>\n",
       "      <td>Who else doesn’t want covid world to leave My ...</td>\n",
       "      <td>Who else doesn’t want covid world to leave My ...</td>\n",
       "      <td>else want covid world leave mental health bad ...</td>\n",
       "    </tr>\n",
       "    <tr>\n",
       "      <th>4</th>\n",
       "      <td>mentalhealth</td>\n",
       "      <td>https://www.reddit.com/r/mentalhealth/comments...</td>\n",
       "      <td>my mental health is suffering due to my contro...</td>\n",
       "      <td>my mental health is suffering due to my contro...</td>\n",
       "      <td>mental health suffering due controlling toxic ...</td>\n",
       "    </tr>\n",
       "    <tr>\n",
       "      <th>...</th>\n",
       "      <td>...</td>\n",
       "      <td>...</td>\n",
       "      <td>...</td>\n",
       "      <td>...</td>\n",
       "      <td>...</td>\n",
       "    </tr>\n",
       "    <tr>\n",
       "      <th>5990</th>\n",
       "      <td>CasualConversation</td>\n",
       "      <td>https://www.reddit.com/r/CasualConversation/co...</td>\n",
       "      <td>Gave my 4 year old stepson an empty box to pla...</td>\n",
       "      <td>Gave my 4 year old stepson an empty box to pla...</td>\n",
       "      <td>gave 4 year old stepson empty box play got pac...</td>\n",
       "    </tr>\n",
       "    <tr>\n",
       "      <th>5991</th>\n",
       "      <td>CasualConversation</td>\n",
       "      <td>https://www.reddit.com/r/CasualConversation/co...</td>\n",
       "      <td>I just realized that I'm not funny anymore For...</td>\n",
       "      <td>I just realized that I'm not funny anymore For...</td>\n",
       "      <td>realized funny anymore whole life people would...</td>\n",
       "    </tr>\n",
       "    <tr>\n",
       "      <th>5992</th>\n",
       "      <td>CasualConversation</td>\n",
       "      <td>https://www.reddit.com/r/CasualConversation/co...</td>\n",
       "      <td>Am I the only one that finds the words “best f...</td>\n",
       "      <td>Am I the only one that finds the words “best f...</td>\n",
       "      <td>one find word best friend immature weird used ...</td>\n",
       "    </tr>\n",
       "    <tr>\n",
       "      <th>5993</th>\n",
       "      <td>CasualConversation</td>\n",
       "      <td>https://www.reddit.com/r/CasualConversation/co...</td>\n",
       "      <td>Anyone else has a big fear to physical pain I ...</td>\n",
       "      <td>Anyone else has a big fear to physical pain I ...</td>\n",
       "      <td>anyone else big fear physical pain mean sure f...</td>\n",
       "    </tr>\n",
       "    <tr>\n",
       "      <th>5994</th>\n",
       "      <td>CasualConversation</td>\n",
       "      <td>https://www.reddit.com/r/CasualConversation/co...</td>\n",
       "      <td>What's the better way to cook eggs? \\n\\n[View ...</td>\n",
       "      <td>What's the better way to cook eggs?</td>\n",
       "      <td>better way cook egg</td>\n",
       "    </tr>\n",
       "  </tbody>\n",
       "</table>\n",
       "<p>5995 rows × 5 columns</p>\n",
       "</div>\n",
       "      <button class=\"colab-df-convert\" onclick=\"convertToInteractive('df-fe7fc15c-087e-483a-8d13-8a8738530538')\"\n",
       "              title=\"Convert this dataframe to an interactive table.\"\n",
       "              style=\"display:none;\">\n",
       "        \n",
       "  <svg xmlns=\"http://www.w3.org/2000/svg\" height=\"24px\"viewBox=\"0 0 24 24\"\n",
       "       width=\"24px\">\n",
       "    <path d=\"M0 0h24v24H0V0z\" fill=\"none\"/>\n",
       "    <path d=\"M18.56 5.44l.94 2.06.94-2.06 2.06-.94-2.06-.94-.94-2.06-.94 2.06-2.06.94zm-11 1L8.5 8.5l.94-2.06 2.06-.94-2.06-.94L8.5 2.5l-.94 2.06-2.06.94zm10 10l.94 2.06.94-2.06 2.06-.94-2.06-.94-.94-2.06-.94 2.06-2.06.94z\"/><path d=\"M17.41 7.96l-1.37-1.37c-.4-.4-.92-.59-1.43-.59-.52 0-1.04.2-1.43.59L10.3 9.45l-7.72 7.72c-.78.78-.78 2.05 0 2.83L4 21.41c.39.39.9.59 1.41.59.51 0 1.02-.2 1.41-.59l7.78-7.78 2.81-2.81c.8-.78.8-2.07 0-2.86zM5.41 20L4 18.59l7.72-7.72 1.47 1.35L5.41 20z\"/>\n",
       "  </svg>\n",
       "      </button>\n",
       "      \n",
       "  <style>\n",
       "    .colab-df-container {\n",
       "      display:flex;\n",
       "      flex-wrap:wrap;\n",
       "      gap: 12px;\n",
       "    }\n",
       "\n",
       "    .colab-df-convert {\n",
       "      background-color: #E8F0FE;\n",
       "      border: none;\n",
       "      border-radius: 50%;\n",
       "      cursor: pointer;\n",
       "      display: none;\n",
       "      fill: #1967D2;\n",
       "      height: 32px;\n",
       "      padding: 0 0 0 0;\n",
       "      width: 32px;\n",
       "    }\n",
       "\n",
       "    .colab-df-convert:hover {\n",
       "      background-color: #E2EBFA;\n",
       "      box-shadow: 0px 1px 2px rgba(60, 64, 67, 0.3), 0px 1px 3px 1px rgba(60, 64, 67, 0.15);\n",
       "      fill: #174EA6;\n",
       "    }\n",
       "\n",
       "    [theme=dark] .colab-df-convert {\n",
       "      background-color: #3B4455;\n",
       "      fill: #D2E3FC;\n",
       "    }\n",
       "\n",
       "    [theme=dark] .colab-df-convert:hover {\n",
       "      background-color: #434B5C;\n",
       "      box-shadow: 0px 1px 3px 1px rgba(0, 0, 0, 0.15);\n",
       "      filter: drop-shadow(0px 1px 2px rgba(0, 0, 0, 0.3));\n",
       "      fill: #FFFFFF;\n",
       "    }\n",
       "  </style>\n",
       "\n",
       "      <script>\n",
       "        const buttonEl =\n",
       "          document.querySelector('#df-fe7fc15c-087e-483a-8d13-8a8738530538 button.colab-df-convert');\n",
       "        buttonEl.style.display =\n",
       "          google.colab.kernel.accessAllowed ? 'block' : 'none';\n",
       "\n",
       "        async function convertToInteractive(key) {\n",
       "          const element = document.querySelector('#df-fe7fc15c-087e-483a-8d13-8a8738530538');\n",
       "          const dataTable =\n",
       "            await google.colab.kernel.invokeFunction('convertToInteractive',\n",
       "                                                     [key], {});\n",
       "          if (!dataTable) return;\n",
       "\n",
       "          const docLinkHtml = 'Like what you see? Visit the ' +\n",
       "            '<a target=\"_blank\" href=https://colab.research.google.com/notebooks/data_table.ipynb>data table notebook</a>'\n",
       "            + ' to learn more about interactive tables.';\n",
       "          element.innerHTML = '';\n",
       "          dataTable['output_type'] = 'display_data';\n",
       "          await google.colab.output.renderOutput(dataTable, element);\n",
       "          const docLink = document.createElement('div');\n",
       "          docLink.innerHTML = docLinkHtml;\n",
       "          element.appendChild(docLink);\n",
       "        }\n",
       "      </script>\n",
       "    </div>\n",
       "  </div>\n",
       "  "
      ],
      "text/plain": [
       "               subreddit                                                url  \\\n",
       "0           mentalhealth  https://www.reddit.com/r/mentalhealth/comments...   \n",
       "1           mentalhealth  https://www.reddit.com/r/mentalhealth/comments...   \n",
       "2           mentalhealth  https://www.reddit.com/r/mentalhealth/comments...   \n",
       "3           mentalhealth  https://www.reddit.com/r/mentalhealth/comments...   \n",
       "4           mentalhealth  https://www.reddit.com/r/mentalhealth/comments...   \n",
       "...                  ...                                                ...   \n",
       "5990  CasualConversation  https://www.reddit.com/r/CasualConversation/co...   \n",
       "5991  CasualConversation  https://www.reddit.com/r/CasualConversation/co...   \n",
       "5992  CasualConversation  https://www.reddit.com/r/CasualConversation/co...   \n",
       "5993  CasualConversation  https://www.reddit.com/r/CasualConversation/co...   \n",
       "5994  CasualConversation  https://www.reddit.com/r/CasualConversation/co...   \n",
       "\n",
       "                                              full_text  \\\n",
       "0     Craving closeness About a year ago, I got into...   \n",
       "1     Mental health class I think schools should hav...   \n",
       "2     My 7yo son accidentally fell on our pet bird a...   \n",
       "3     Who else doesn’t want covid world to leave My ...   \n",
       "4     my mental health is suffering due to my contro...   \n",
       "...                                                 ...   \n",
       "5990  Gave my 4 year old stepson an empty box to pla...   \n",
       "5991  I just realized that I'm not funny anymore For...   \n",
       "5992  Am I the only one that finds the words “best f...   \n",
       "5993  Anyone else has a big fear to physical pain I ...   \n",
       "5994  What's the better way to cook eggs? \\n\\n[View ...   \n",
       "\n",
       "                                     01_reddit_specific  \\\n",
       "0     Craving closeness About a year ago, I got into...   \n",
       "1     Mental health class I think schools should hav...   \n",
       "2     My 7yo son accidentally fell on our pet bird a...   \n",
       "3     Who else doesn’t want covid world to leave My ...   \n",
       "4     my mental health is suffering due to my contro...   \n",
       "...                                                 ...   \n",
       "5990  Gave my 4 year old stepson an empty box to pla...   \n",
       "5991  I just realized that I'm not funny anymore For...   \n",
       "5992  Am I the only one that finds the words “best f...   \n",
       "5993  Anyone else has a big fear to physical pain I ...   \n",
       "5994                What's the better way to cook eggs?   \n",
       "\n",
       "                                           cleaned_text  \n",
       "0     craving closeness year ago got relationship la...  \n",
       "1     mental health class think school mandatory men...  \n",
       "2     7yo son accidentally fell pet bird killed 11 y...  \n",
       "3     else want covid world leave mental health bad ...  \n",
       "4     mental health suffering due controlling toxic ...  \n",
       "...                                                 ...  \n",
       "5990  gave 4 year old stepson empty box play got pac...  \n",
       "5991  realized funny anymore whole life people would...  \n",
       "5992  one find word best friend immature weird used ...  \n",
       "5993  anyone else big fear physical pain mean sure f...  \n",
       "5994                                better way cook egg  \n",
       "\n",
       "[5995 rows x 5 columns]"
      ]
     },
     "execution_count": 22,
     "metadata": {},
     "output_type": "execute_result"
    }
   ],
   "source": [
    "df_preprocessing"
   ]
  },
  {
   "cell_type": "code",
   "execution_count": 23,
   "id": "fc7b1f84",
   "metadata": {
    "id": "fc7b1f84"
   },
   "outputs": [],
   "source": [
    "# Keeping only posts in English\n",
    "df_english = df_preprocessing.iloc[index]\n",
    "df = df_english[[\"subreddit\",\"cleaned_text\"]]"
   ]
  },
  {
   "cell_type": "code",
   "execution_count": 24,
   "id": "ca641853",
   "metadata": {
    "id": "ca641853"
   },
   "outputs": [],
   "source": [
    "df = df_english[[\"subreddit\",\"cleaned_text\"]]"
   ]
  },
  {
   "cell_type": "code",
   "execution_count": 25,
   "id": "t5EMNzO1595F",
   "metadata": {
    "id": "t5EMNzO1595F"
   },
   "outputs": [],
   "source": [
    "df.to_csv('data_preprocessed.csv')"
   ]
  },
  {
   "cell_type": "markdown",
   "id": "11574a06",
   "metadata": {
    "id": "11574a06"
   },
   "source": [
    "## Vectorizing the posts"
   ]
  },
  {
   "cell_type": "code",
   "execution_count": 26,
   "id": "040a24a4",
   "metadata": {
    "id": "040a24a4"
   },
   "outputs": [],
   "source": [
    "# Vectorizing the posts using Count Vectorizer and TFidf Vectorizer\n",
    "from sklearn.feature_extraction.text import CountVectorizer, TfidfVectorizer\n",
    "\n",
    "cv = CountVectorizer()\n",
    "tfidf = TfidfVectorizer()\n",
    "X_cv = cv.fit_transform(df['cleaned_text'])\n",
    "X_tfidf = tfidf.fit_transform(df['cleaned_text'])"
   ]
  },
  {
   "cell_type": "code",
   "execution_count": 27,
   "id": "8c2de676",
   "metadata": {
    "colab": {
     "base_uri": "https://localhost:8080/"
    },
    "id": "8c2de676",
    "outputId": "efb67b27-db3c-4aa4-dc31-b4daba78851b"
   },
   "outputs": [
    {
     "data": {
      "text/plain": [
       "Anxiety               988\n",
       "BPD                   987\n",
       "mentalhealth          982\n",
       "SuicideWatch          929\n",
       "depression            901\n",
       "CasualConversation    805\n",
       "bipolar               315\n",
       "Name: subreddit, dtype: int64"
      ]
     },
     "execution_count": 27,
     "metadata": {},
     "output_type": "execute_result"
    }
   ],
   "source": [
    "df['subreddit'].value_counts()"
   ]
  },
  {
   "cell_type": "code",
   "execution_count": 28,
   "id": "57d2d21e",
   "metadata": {
    "colab": {
     "base_uri": "https://localhost:8080/"
    },
    "id": "57d2d21e",
    "outputId": "f6d98819-6ad3-4a03-cf59-e6e94e507fef"
   },
   "outputs": [
    {
     "name": "stderr",
     "output_type": "stream",
     "text": [
      "/usr/local/lib/python3.7/dist-packages/ipykernel_launcher.py:2: SettingWithCopyWarning: \n",
      "A value is trying to be set on a copy of a slice from a DataFrame.\n",
      "Try using .loc[row_indexer,col_indexer] = value instead\n",
      "\n",
      "See the caveats in the documentation: https://pandas.pydata.org/pandas-docs/stable/user_guide/indexing.html#returning-a-view-versus-a-copy\n",
      "  \n"
     ]
    }
   ],
   "source": [
    "# Storing a list of tokens\n",
    "df[\"list\"] = df[\"cleaned_text\"].str.split(\" \")"
   ]
  },
  {
   "cell_type": "code",
   "execution_count": 29,
   "id": "e40e801d",
   "metadata": {
    "colab": {
     "base_uri": "https://localhost:8080/"
    },
    "id": "e40e801d",
    "outputId": "e7145494-df9d-45bc-da3f-dd7b72753e4d"
   },
   "outputs": [
    {
     "name": "stderr",
     "output_type": "stream",
     "text": [
      "/usr/local/lib/python3.7/dist-packages/ipykernel_launcher.py:2: SettingWithCopyWarning: \n",
      "A value is trying to be set on a copy of a slice from a DataFrame.\n",
      "Try using .loc[row_indexer,col_indexer] = value instead\n",
      "\n",
      "See the caveats in the documentation: https://pandas.pydata.org/pandas-docs/stable/user_guide/indexing.html#returning-a-view-versus-a-copy\n",
      "  \n"
     ]
    }
   ],
   "source": [
    "# Giving labels to the subreddit column\n",
    "df['subreddit_labels'] = df['subreddit'].map({'BPD':0,'mentalhealth':1,\"Anxiety\":2,\"SuicideWatch\":3,\"depression\":4,\"CasualConversation\":5,\"bipolar\":6})"
   ]
  },
  {
   "cell_type": "code",
   "execution_count": 30,
   "id": "381f8d81",
   "metadata": {
    "id": "381f8d81"
   },
   "outputs": [],
   "source": [
    "from sklearn.feature_extraction.text import CountVectorizer, TfidfVectorizer\n",
    "\n",
    "cv = CountVectorizer()\n",
    "tfidf = TfidfVectorizer()\n",
    "X_cv = cv.fit_transform(df['cleaned_text'])\n",
    "X_tfidf = tfidf.fit_transform(df['cleaned_text'])"
   ]
  },
  {
   "cell_type": "code",
   "execution_count": 31,
   "id": "ae328dae",
   "metadata": {
    "id": "ae328dae"
   },
   "outputs": [],
   "source": [
    "y = df[\"subreddit_labels\"]"
   ]
  },
  {
   "cell_type": "code",
   "execution_count": 32,
   "id": "ea769161",
   "metadata": {
    "colab": {
     "base_uri": "https://localhost:8080/"
    },
    "id": "ea769161",
    "outputId": "3545fce9-2d43-4a71-f850-2daa8fc5cc3f"
   },
   "outputs": [
    {
     "data": {
      "text/plain": [
       "array([[0., 0., 0., ..., 0., 0., 0.],\n",
       "       [0., 0., 0., ..., 0., 0., 0.],\n",
       "       [0., 0., 0., ..., 0., 0., 0.],\n",
       "       ...,\n",
       "       [0., 0., 0., ..., 0., 0., 0.],\n",
       "       [0., 0., 0., ..., 0., 0., 0.],\n",
       "       [0., 0., 0., ..., 0., 0., 0.]])"
      ]
     },
     "execution_count": 32,
     "metadata": {},
     "output_type": "execute_result"
    }
   ],
   "source": [
    "#X_cv.toarray()\n",
    "X_tfidf.toarray()"
   ]
  },
  {
   "cell_type": "code",
   "execution_count": 33,
   "id": "a5b45771",
   "metadata": {
    "colab": {
     "base_uri": "https://localhost:8080/"
    },
    "id": "a5b45771",
    "outputId": "8081dfa4-35ab-40dd-db9f-d8ff573a55e3"
   },
   "outputs": [
    {
     "name": "stderr",
     "output_type": "stream",
     "text": [
      "/usr/local/lib/python3.7/dist-packages/sklearn/utils/deprecation.py:87: FutureWarning: Function get_feature_names is deprecated; get_feature_names is deprecated in 1.0 and will be removed in 1.2. Please use get_feature_names_out instead.\n",
      "  warnings.warn(msg, category=FutureWarning)\n"
     ]
    },
    {
     "data": {
      "text/plain": [
       "18357"
      ]
     },
     "execution_count": 33,
     "metadata": {},
     "output_type": "execute_result"
    }
   ],
   "source": [
    "len(cv.get_feature_names())"
   ]
  },
  {
   "cell_type": "code",
   "execution_count": 34,
   "id": "9aa8d5f4",
   "metadata": {
    "colab": {
     "base_uri": "https://localhost:8080/"
    },
    "id": "9aa8d5f4",
    "outputId": "883b3cae-a3ef-4b37-f7cf-e2fb8c3ed839"
   },
   "outputs": [
    {
     "data": {
      "text/plain": [
       "array([[0, 0, 0, ..., 0, 0, 0],\n",
       "       [0, 0, 0, ..., 0, 0, 0],\n",
       "       [0, 0, 0, ..., 0, 0, 0],\n",
       "       ...,\n",
       "       [0, 0, 0, ..., 0, 0, 0],\n",
       "       [0, 0, 0, ..., 0, 0, 0],\n",
       "       [0, 0, 0, ..., 0, 0, 0]])"
      ]
     },
     "execution_count": 34,
     "metadata": {},
     "output_type": "execute_result"
    }
   ],
   "source": [
    "X_cv.toarray()"
   ]
  },
  {
   "cell_type": "code",
   "execution_count": 35,
   "id": "c96a69f8",
   "metadata": {
    "colab": {
     "base_uri": "https://localhost:8080/"
    },
    "id": "c96a69f8",
    "outputId": "610a64ae-3bc6-4025-e8af-99c26037a73a"
   },
   "outputs": [
    {
     "name": "stdout",
     "output_type": "stream",
     "text": [
      "False\n",
      "True\n"
     ]
    }
   ],
   "source": [
    "print(np.any(np.isnan(X_cv.toarray())))\n",
    "print(np.all(np.isfinite(X_cv.toarray())))"
   ]
  },
  {
   "cell_type": "markdown",
   "id": "0c48bce2",
   "metadata": {},
   "source": [
    "## Gaussian Naive Bayes"
   ]
  },
  {
   "cell_type": "code",
   "execution_count": 36,
   "id": "0b0db94b",
   "metadata": {
    "colab": {
     "base_uri": "https://localhost:8080/"
    },
    "id": "0b0db94b",
    "outputId": "07667586-3f25-4e45-9fb1-2938f1baa6f3"
   },
   "outputs": [
    {
     "name": "stdout",
     "output_type": "stream",
     "text": [
      "0.3053486797562627\n"
     ]
    }
   ],
   "source": [
    "# Implementing Gaussian Naive Bayes model to predict target labels\n",
    "from sklearn.naive_bayes import GaussianNB\n",
    "from sklearn.linear_model import LogisticRegression\n",
    "from sklearn.model_selection import train_test_split\n",
    "from sklearn.metrics import accuracy_score\n",
    "model_nb = GaussianNB()\n",
    "\n",
    "X_train, X_test, y_train, y_test = train_test_split(X_cv.toarray(),y)\n",
    "model_nb.fit(X_train, y_train)\n",
    "\n",
    "y_pred_n = model_nb.predict(X_test)\n",
    "\n",
    "print(accuracy_score(y_pred_n, y_test))"
   ]
  },
  {
   "cell_type": "markdown",
   "id": "e0fe0d95",
   "metadata": {},
   "source": [
    "## Multinomial Naive Bayes"
   ]
  },
  {
   "cell_type": "code",
   "execution_count": 37,
   "id": "7648c7fc",
   "metadata": {
    "colab": {
     "base_uri": "https://localhost:8080/"
    },
    "id": "7648c7fc",
    "outputId": "78e95b63-fcf9-4cf0-e0e8-8a2edf85d53a"
   },
   "outputs": [
    {
     "name": "stdout",
     "output_type": "stream",
     "text": [
      "0.44008124576844954\n"
     ]
    }
   ],
   "source": [
    "# Implementing Multionomial Naive Bayes Model\n",
    "from sklearn.naive_bayes import MultinomialNB\n",
    "from sklearn.model_selection import train_test_split\n",
    "from sklearn.metrics import accuracy_score\n",
    "model = MultinomialNB()\n",
    "X = np.nan_to_num(X_tfidf)\n",
    "X_train, X_test, y_train, y_test = train_test_split(X.toarray(),y)\n",
    "model.fit(X_train, y_train)\n",
    "y_pred = model.predict(X_test)\n",
    "\n",
    "print(accuracy_score(y_pred, y_test))"
   ]
  },
  {
   "cell_type": "markdown",
   "id": "b42abd9a",
   "metadata": {},
   "source": [
    "## Logistic Regression"
   ]
  },
  {
   "cell_type": "code",
   "execution_count": 38,
   "id": "4693d96e",
   "metadata": {
    "colab": {
     "base_uri": "https://localhost:8080/"
    },
    "id": "4693d96e",
    "outputId": "794dcc61-d06c-4086-a2fc-7a61c9c12757"
   },
   "outputs": [
    {
     "name": "stdout",
     "output_type": "stream",
     "text": [
      "0.5822613405551794\n"
     ]
    }
   ],
   "source": [
    "# Implementing logistic regression\n",
    "from sklearn.linear_model import LogisticRegression\n",
    "\n",
    "linear_model = LogisticRegression()\n",
    "\n",
    "linear_model.fit(X_train,y_train)\n",
    "y_pred = linear_model.predict(X_test)\n",
    "\n",
    "print(accuracy_score(y_pred, y_test))"
   ]
  },
  {
   "cell_type": "code",
   "execution_count": 41,
   "id": "97fcd0de",
   "metadata": {
    "colab": {
     "base_uri": "https://localhost:8080/"
    },
    "id": "97fcd0de",
    "outputId": "3e102c30-fa78-497e-919e-3d44dad2697c"
   },
   "outputs": [
    {
     "name": "stdout",
     "output_type": "stream",
     "text": [
      "Requirement already satisfied: gensim in /usr/local/lib/python3.7/dist-packages (4.1.2)\n",
      "Requirement already satisfied: smart-open>=1.8.1 in /usr/local/lib/python3.7/dist-packages (from gensim) (5.2.1)\n",
      "Requirement already satisfied: numpy>=1.17.0 in /usr/local/lib/python3.7/dist-packages (from gensim) (1.21.6)\n",
      "Requirement already satisfied: scipy>=0.18.1 in /usr/local/lib/python3.7/dist-packages (from gensim) (1.4.1)\n"
     ]
    }
   ],
   "source": [
    "# Installing gensim package\n",
    "!pip install gensim"
   ]
  },
  {
   "cell_type": "markdown",
   "id": "3d4f2074",
   "metadata": {},
   "source": [
    "## Word2Vec"
   ]
  },
  {
   "cell_type": "code",
   "execution_count": 42,
   "id": "23517a92",
   "metadata": {
    "colab": {
     "base_uri": "https://localhost:8080/"
    },
    "id": "23517a92",
    "outputId": "c41ab40d-4640-4e81-d291-09ddaed04e62"
   },
   "outputs": [
    {
     "name": "stderr",
     "output_type": "stream",
     "text": [
      "/usr/local/lib/python3.7/dist-packages/ipykernel_launcher.py:9: VisibleDeprecationWarning: Creating an ndarray from ragged nested sequences (which is a list-or-tuple of lists-or-tuples-or ndarrays with different lengths or shapes) is deprecated. If you meant to do this, you must specify 'dtype=object' when creating the ndarray.\n",
      "  if __name__ == '__main__':\n",
      "/usr/local/lib/python3.7/dist-packages/ipykernel_launcher.py:11: VisibleDeprecationWarning: Creating an ndarray from ragged nested sequences (which is a list-or-tuple of lists-or-tuples-or ndarrays with different lengths or shapes) is deprecated. If you meant to do this, you must specify 'dtype=object' when creating the ndarray.\n",
      "  # This is added back by InteractiveShellApp.init_path()\n"
     ]
    }
   ],
   "source": [
    "# Implementing Word2vec as the previous methods were not helpful in capturing the context of the posts. \n",
    "# The accuracy of the model was also pretty low.\n",
    "import gensim\n",
    "X_train, X_test, y_train, y_test = train_test_split(df['cleaned_text'].str.split(\" \"),y)\n",
    "from gensim.models import Word2Vec\n",
    "\n",
    "word2vec = Word2Vec(df['cleaned_text'].str.split(\" \"))\n",
    "vectors = word2vec.wv.get_normed_vectors()\n",
    "words = set(word2vec.wv.index_to_key)\n",
    "X_train_vect = np.array([np.array([word2vec.wv[i] for i in ls if i in words])\n",
    "                         for ls in X_train])\n",
    "X_test_vect = np.array([np.array([word2vec.wv[i] for i in ls if i in words])\n",
    "                     for ls in X_test])\n",
    "X_train_vect_avg = []\n",
    "for v in X_train_vect:\n",
    "    #print(len(v))\n",
    "    if v.size:\n",
    "        X_train_vect_avg.append(v.mean(axis=0))\n",
    "        \n",
    "    else:\n",
    "        X_train_vect_avg.append(np.zeros(100, dtype=float))\n",
    "X_test_vect_avg = []\n",
    "for v in X_test_vect:\n",
    "    if v.size:\n",
    "        X_test_vect_avg.append(v.mean(axis=0))\n",
    "    else:\n",
    "        X_test_vect_avg.append(np.zeros(100, dtype=float))"
   ]
  },
  {
   "cell_type": "code",
   "execution_count": 43,
   "id": "2d51e8a2",
   "metadata": {
    "colab": {
     "base_uri": "https://localhost:8080/"
    },
    "id": "2d51e8a2",
    "outputId": "4ae05a5d-c477-4b29-b1c7-ac26807ba913"
   },
   "outputs": [
    {
     "name": "stderr",
     "output_type": "stream",
     "text": [
      "/usr/local/lib/python3.7/dist-packages/ipykernel_launcher.py:3: VisibleDeprecationWarning: Creating an ndarray from ragged nested sequences (which is a list-or-tuple of lists-or-tuples-or ndarrays with different lengths or shapes) is deprecated. If you meant to do this, you must specify 'dtype=object' when creating the ndarray.\n",
      "  This is separate from the ipykernel package so we can avoid doing imports until\n",
      "/usr/local/lib/python3.7/dist-packages/ipykernel_launcher.py:5: VisibleDeprecationWarning: Creating an ndarray from ragged nested sequences (which is a list-or-tuple of lists-or-tuples-or ndarrays with different lengths or shapes) is deprecated. If you meant to do this, you must specify 'dtype=object' when creating the ndarray.\n",
      "  \"\"\"\n"
     ]
    }
   ],
   "source": [
    "words = set(word2vec.wv.index_to_key)\n",
    "X_train_vect = np.array([np.array([word2vec.wv[i] for i in ls if i in words])\n",
    "                         for ls in X_train])\n",
    "X_test_vect = np.array([np.array([word2vec.wv[i] for i in ls if i in words])\n",
    "                     for ls in X_test])\n",
    "X_train_vect_avg = []\n",
    "for v in X_train_vect:\n",
    "    #print(len(v))\n",
    "    if v.size:\n",
    "        X_train_vect_avg.append(v.mean(axis=0))\n",
    "        \n",
    "    else:\n",
    "        X_train_vect_avg.append(np.zeros(100, dtype=float))\n",
    "X_test_vect_avg = []\n",
    "for v in X_test_vect:\n",
    "    if v.size:\n",
    "        X_test_vect_avg.append(v.mean(axis=0))\n",
    "    else:\n",
    "        X_test_vect_avg.append(np.zeros(100, dtype=float))"
   ]
  },
  {
   "cell_type": "code",
   "execution_count": 44,
   "id": "d98ba393",
   "metadata": {
    "id": "d98ba393"
   },
   "outputs": [],
   "source": [
    "X_train_vect_avg = []\n",
    "for v in X_train_vect:\n",
    "    #print(len(v))\n",
    "    if v.size:\n",
    "        X_train_vect_avg.append(v.mean(axis=0))\n",
    "        \n",
    "    else:\n",
    "        X_train_vect_avg.append(np.zeros(100, dtype=float))\n",
    "X_test_vect_avg = []\n",
    "for v in X_test_vect:\n",
    "    if v.size:\n",
    "        X_test_vect_avg.append(v.mean(axis=0))\n",
    "    else:\n",
    "        X_test_vect_avg.append(np.zeros(100, dtype=float))"
   ]
  },
  {
   "cell_type": "markdown",
   "id": "d3028b1f",
   "metadata": {},
   "source": [
    "## Random Forest"
   ]
  },
  {
   "cell_type": "code",
   "execution_count": 45,
   "id": "99870560",
   "metadata": {
    "colab": {
     "base_uri": "https://localhost:8080/"
    },
    "id": "99870560",
    "outputId": "bdc8d477-0a26-43d0-92a7-7f89edf9becc"
   },
   "outputs": [
    {
     "name": "stdout",
     "output_type": "stream",
     "text": [
      "0.3974272173324306\n"
     ]
    }
   ],
   "source": [
    "# Implementing Random Forest Classifier on the Word2Vec embedding\n",
    "from sklearn.ensemble import RandomForestClassifier\n",
    "\n",
    "rf = RandomForestClassifier()\n",
    "rf.fit(X_train_vect_avg, y_train)\n",
    "y_pred = rf.predict(X_test_vect_avg)\n",
    "print(accuracy_score(y_pred, y_test))"
   ]
  },
  {
   "cell_type": "code",
   "execution_count": 46,
   "id": "b2645269",
   "metadata": {
    "colab": {
     "base_uri": "https://localhost:8080/"
    },
    "id": "b2645269",
    "outputId": "f2e0167c-7b0f-4c3e-dfd4-0b4db65c806d"
   },
   "outputs": [
    {
     "name": "stdout",
     "output_type": "stream",
     "text": [
      "0.45903859174001355\n"
     ]
    },
    {
     "name": "stderr",
     "output_type": "stream",
     "text": [
      "/usr/local/lib/python3.7/dist-packages/sklearn/linear_model/_logistic.py:818: ConvergenceWarning: lbfgs failed to converge (status=1):\n",
      "STOP: TOTAL NO. of ITERATIONS REACHED LIMIT.\n",
      "\n",
      "Increase the number of iterations (max_iter) or scale the data as shown in:\n",
      "    https://scikit-learn.org/stable/modules/preprocessing.html\n",
      "Please also refer to the documentation for alternative solver options:\n",
      "    https://scikit-learn.org/stable/modules/linear_model.html#logistic-regression\n",
      "  extra_warning_msg=_LOGISTIC_SOLVER_CONVERGENCE_MSG,\n"
     ]
    }
   ],
   "source": [
    "# Implementing Logistic Regression on the Word2Vec embedding\n",
    "linear_model = LogisticRegression()\n",
    "linear_model.fit(X_train_vect_avg, y_train)\n",
    "y_pred = linear_model.predict(X_test_vect_avg)\n",
    "print(accuracy_score(y_pred, y_test))"
   ]
  },
  {
   "cell_type": "markdown",
   "id": "2a7610d8",
   "metadata": {},
   "source": [
    "## TSNE"
   ]
  },
  {
   "cell_type": "code",
   "execution_count": 47,
   "id": "02ef4eb6",
   "metadata": {
    "id": "02ef4eb6"
   },
   "outputs": [],
   "source": [
    "# Implementing TSNE to visualize the Word2Vec embeddings\n",
    "from sklearn.manifold import TSNE\n",
    "import matplotlib.pyplot as plt\n",
    "def tsne_plot(model):\n",
    "    \"Creates and TSNE model and plots it\"\n",
    "    labels = []\n",
    "    tokens = []\n",
    "\n",
    "    for word in model.wv.index_to_key:\n",
    "        tokens.append(model.wv[word])\n",
    "        labels.append(word)\n",
    "    \n",
    "    tsne_model = TSNE(perplexity=40, n_components=2, init='pca', n_iter=2500, random_state=23)\n",
    "    new_values = tsne_model.fit_transform(tokens)\n",
    "\n",
    "    x = []\n",
    "    y = []\n",
    "    for value in new_values:\n",
    "        x.append(value[0])\n",
    "        y.append(value[1])\n",
    "        \n",
    "    plt.figure(figsize=(16, 16)) \n",
    "    for i in range(len(x)):\n",
    "        plt.scatter(x[i],y[i])\n",
    "#         plt.annotate(labels[i],\n",
    "#                      xy=(x[i], y[i]),\n",
    "#                      xytext=(5, 2),\n",
    "#                      textcoords='offset points',\n",
    "#                      ha='right',\n",
    "#                      va='bottom')\n",
    "    plt.show()"
   ]
  },
  {
   "cell_type": "code",
   "execution_count": 48,
   "id": "9257798b",
   "metadata": {
    "colab": {
     "base_uri": "https://localhost:8080/",
     "height": 1000
    },
    "id": "9257798b",
    "outputId": "7f72d8e4-1f95-4910-b69a-1907875fc868"
   },
   "outputs": [
    {
     "name": "stderr",
     "output_type": "stream",
     "text": [
      "/usr/local/lib/python3.7/dist-packages/sklearn/manifold/_t_sne.py:793: FutureWarning: The default learning rate in TSNE will change from 200.0 to 'auto' in 1.2.\n",
      "  FutureWarning,\n",
      "/usr/local/lib/python3.7/dist-packages/sklearn/manifold/_t_sne.py:986: FutureWarning: The PCA initialization in TSNE will change to have the standard deviation of PC1 equal to 1e-4 in 1.2. This will ensure better convergence.\n",
      "  FutureWarning,\n"
     ]
    },
    {
     "data": {
      "image/png": "[encoded data removed]",
      "text/plain": [
       "<Figure size 1152x1152 with 1 Axes>"
      ]
     },
     "metadata": {
      "needs_background": "light"
     },
     "output_type": "display_data"
    }
   ],
   "source": [
    "tsne_plot(word2vec)"
   ]
  },
  {
   "cell_type": "code",
   "execution_count": 49,
   "id": "54238095",
   "metadata": {
    "colab": {
     "base_uri": "https://localhost:8080/"
    },
    "id": "54238095",
    "outputId": "c38b69a6-bc5d-46aa-af5e-faf78d244b1d"
   },
   "outputs": [
    {
     "name": "stdout",
     "output_type": "stream",
     "text": [
      "[nltk_data] Downloading package vader_lexicon to /root/nltk_data...\n"
     ]
    },
    {
     "name": "stderr",
     "output_type": "stream",
     "text": [
      "/usr/local/lib/python3.7/dist-packages/nltk/twitter/__init__.py:20: UserWarning: The twython library has not been installed. Some functionality from the twitter package will not be available.\n",
      "  warnings.warn(\"The twython library has not been installed. \"\n"
     ]
    }
   ],
   "source": [
    "# Import Sentiment Analyzer package\n",
    "import nltk\n",
    "nltk.download('vader_lexicon')\n",
    "from nltk.sentiment.vader import SentimentIntensityAnalyzer\n",
    "sid = SentimentIntensityAnalyzer()"
   ]
  },
  {
   "cell_type": "code",
   "execution_count": 50,
   "id": "133192f8",
   "metadata": {
    "id": "133192f8"
   },
   "outputs": [],
   "source": [
    "# Implementing a function to calculate polarity scores given a post.\n",
    "def get_polarity(text):\n",
    "    return sid.polarity_scores(text)['compound']"
   ]
  },
  {
   "cell_type": "code",
   "execution_count": 51,
   "id": "66f83826",
   "metadata": {
    "id": "66f83826"
   },
   "outputs": [],
   "source": [
    "df['polarity_score'] = df['cleaned_text'].apply(get_polarity)"
   ]
  },
  {
   "cell_type": "code",
   "execution_count": 52,
   "id": "cf577a32",
   "metadata": {
    "colab": {
     "base_uri": "https://localhost:8080/",
     "height": 296
    },
    "id": "cf577a32",
    "outputId": "f9af5b85-653a-41e2-e009-bb8531e398ab"
   },
   "outputs": [
    {
     "data": {
      "text/plain": [
       "<matplotlib.axes._subplots.AxesSubplot at 0x7efc71f7fd10>"
      ]
     },
     "execution_count": 52,
     "metadata": {},
     "output_type": "execute_result"
    },
    {
     "data": {
      "image/png": "[encoded data removed]",
      "text/plain": [
       "<Figure size 432x288 with 1 Axes>"
      ]
     },
     "metadata": {
      "needs_background": "light"
     },
     "output_type": "display_data"
    }
   ],
   "source": [
    "# Plotting the mean polarity scores among various subreddits\n",
    "df.groupby('subreddit').polarity_score.mean().plot()"
   ]
  },
  {
   "cell_type": "code",
   "execution_count": 53,
   "id": "822abc27",
   "metadata": {
    "colab": {
     "base_uri": "https://localhost:8080/"
    },
    "id": "822abc27",
    "outputId": "406e2ca2-f515-447e-c0f8-35961d2c33b6"
   },
   "outputs": [
    {
     "data": {
      "text/plain": [
       "subreddit\n",
       "Anxiety              -0.244861\n",
       "BPD                  -0.059758\n",
       "CasualConversation    0.509793\n",
       "SuicideWatch         -0.389597\n",
       "bipolar              -0.039074\n",
       "depression           -0.213110\n",
       "mentalhealth         -0.132670\n",
       "Name: polarity_score, dtype: float64"
      ]
     },
     "execution_count": 53,
     "metadata": {},
     "output_type": "execute_result"
    }
   ],
   "source": [
    "# Calculating the mean polarity scores among various subreddits\n",
    "df.groupby('subreddit').polarity_score.mean()\n",
    "# Causal Conversation\n",
    "# Suicide Watch\n",
    "# Anxiety"
   ]
  },
  {
   "cell_type": "code",
   "execution_count": 54,
   "id": "2d0bb2ac",
   "metadata": {
    "colab": {
     "base_uri": "https://localhost:8080/"
    },
    "id": "2d0bb2ac",
    "outputId": "f85df92d-44f5-47f0-e195-93b1a4277721"
   },
   "outputs": [
    {
     "name": "stdout",
     "output_type": "stream",
     "text": [
      "mentalhealth: 982\n",
      "depression: 901\n",
      "Anxiety: 988\n",
      "bipolar: 315\n",
      "BPD: 987\n",
      "SuicideWatch: 929\n",
      "CasualConversation: 805\n"
     ]
    }
   ],
   "source": [
    "# Returning the number of unique elements in each subreddit\n",
    "for i in df['subreddit'].unique():    \n",
    "    print(\"{}: {}\".format(i,len(df[df['subreddit']==\"\"+str(i)+\"\"])))"
   ]
  },
  {
   "cell_type": "code",
   "execution_count": 55,
   "id": "64a8faa1",
   "metadata": {
    "id": "64a8faa1"
   },
   "outputs": [],
   "source": [
    "#removing bipolar subreddit\n",
    "\n",
    "df = df[df['subreddit']!=\"bipolar\"]"
   ]
  },
  {
   "cell_type": "code",
   "execution_count": 56,
   "id": "f0dd6ee2",
   "metadata": {
    "colab": {
     "base_uri": "https://localhost:8080/",
     "height": 1000
    },
    "id": "f0dd6ee2",
    "outputId": "aad68030-a31c-43f0-ea98-418789e93287"
   },
   "outputs": [
    {
     "data": {
      "image/png": "[encoded data removed]",
      "text/plain": [
       "<Figure size 432x288 with 1 Axes>"
      ]
     },
     "metadata": {
      "needs_background": "light"
     },
     "output_type": "display_data"
    },
    {
     "data": {
      "image/png": "[encoded data removed]",
      "text/plain": [
       "<Figure size 432x288 with 1 Axes>"
      ]
     },
     "metadata": {
      "needs_background": "light"
     },
     "output_type": "display_data"
    },
    {
     "data": {
      "image/png": "[encoded data removed]",
      "text/plain": [
       "<Figure size 432x288 with 1 Axes>"
      ]
     },
     "metadata": {
      "needs_background": "light"
     },
     "output_type": "display_data"
    },
    {
     "data": {
      "image/png": "[encoded data removed]",
      "text/plain": [
       "<Figure size 432x288 with 1 Axes>"
      ]
     },
     "metadata": {
      "needs_background": "light"
     },
     "output_type": "display_data"
    },
    {
     "data": {
      "image/png": "[encoded data removed]",
      "text/plain": [
       "<Figure size 432x288 with 1 Axes>"
      ]
     },
     "metadata": {
      "needs_background": "light"
     },
     "output_type": "display_data"
    },
    {
     "data": {
      "image/png": "[encoded data removed]",
      "text/plain": [
       "<Figure size 432x288 with 1 Axes>"
      ]
     },
     "metadata": {
      "needs_background": "light"
     },
     "output_type": "display_data"
    }
   ],
   "source": [
    "# Plotting the polarity scores for various subreddits\n",
    "import matplotlib.pyplot as plt\n",
    "import seaborn as sns\n",
    "j = 1\n",
    "for i in df['subreddit'].unique():#['CasualConversation','SuicideWatch','Anxiety']:\n",
    "    plt.figure(j)\n",
    "    sns.kdeplot(df[df['subreddit'] == \"\"+str(i)+\"\"]['polarity_score'])#.plot.hist()\n",
    "    plt.title(str(i))\n",
    "    j+=1"
   ]
  },
  {
   "cell_type": "code",
   "execution_count": 57,
   "id": "cd246545",
   "metadata": {
    "colab": {
     "base_uri": "https://localhost:8080/"
    },
    "id": "cd246545",
    "outputId": "c9213717-de76-4f54-d851-8d5b5d9a8dc1"
   },
   "outputs": [
    {
     "data": {
      "text/plain": [
       "-0.3818"
      ]
     },
     "execution_count": 57,
     "metadata": {},
     "output_type": "execute_result"
    }
   ],
   "source": [
    "get_polarity(\"hello I'm feeling sad\") # from the plots - anxiety and bipolar"
   ]
  },
  {
   "cell_type": "code",
   "execution_count": 58,
   "id": "34bbfeef",
   "metadata": {
    "colab": {
     "base_uri": "https://localhost:8080/"
    },
    "id": "34bbfeef",
    "outputId": "5b107554-d6fc-4aa8-a68b-b4c17fccf099"
   },
   "outputs": [
    {
     "data": {
      "text/plain": [
       "0.0"
      ]
     },
     "execution_count": 58,
     "metadata": {},
     "output_type": "execute_result"
    }
   ],
   "source": [
    "get_polarity(\"I'm dying\") # bipolar - from the plots"
   ]
  },
  {
   "cell_type": "code",
   "execution_count": 59,
   "id": "daae783b",
   "metadata": {
    "id": "daae783b"
   },
   "outputs": [],
   "source": [
    "# Function to return a label predicting which subreddit the given sentence might belong to.\n",
    "def get_severity(text):\n",
    "    from scipy.stats import gaussian_kde\n",
    "    severity = \"\"\n",
    "    max_severity = float(\"-inf\")\n",
    "    for i in df.subreddit.unique():\n",
    "        kde = gaussian_kde(df[df['subreddit']==\"\"+str(i)+\"\"]['polarity_score'].values)\n",
    "        sev = kde.evaluate([get_polarity(text)])\n",
    "        \n",
    "        if sev > max_severity:\n",
    "            \n",
    "            severity = i\n",
    "            max_severity = sev\n",
    "            \n",
    "    return severity"
   ]
  },
  {
   "cell_type": "code",
   "execution_count": 60,
   "id": "80a422d2",
   "metadata": {
    "colab": {
     "base_uri": "https://localhost:8080/",
     "height": 37
    },
    "id": "80a422d2",
    "outputId": "825b4031-64d2-46d7-dd18-d21fef2f73d3"
   },
   "outputs": [
    {
     "data": {
      "application/vnd.google.colaboratory.intrinsic+json": {
       "type": "string"
      },
      "text/plain": [
       "'CasualConversation'"
      ]
     },
     "execution_count": 60,
     "metadata": {},
     "output_type": "execute_result"
    }
   ],
   "source": [
    "# Testing with a sample sentence\n",
    "get_severity(\"I'm Happy now\")"
   ]
  },
  {
   "cell_type": "code",
   "execution_count": 61,
   "id": "61e2578b",
   "metadata": {
    "id": "61e2578b"
   },
   "outputs": [],
   "source": [
    "filtered= df[df['subreddit'].isin(['CasualConversation','depression','SuicideWatch'])]\n"
   ]
  },
  {
   "cell_type": "code",
   "execution_count": 62,
   "id": "933ee0b9",
   "metadata": {
    "colab": {
     "base_uri": "https://localhost:8080/"
    },
    "id": "933ee0b9",
    "outputId": "3b90497a-2650-45f6-8ba0-0abacfe07ad5"
   },
   "outputs": [
    {
     "data": {
      "text/plain": [
       "subreddit\n",
       "CasualConversation    0.509793\n",
       "SuicideWatch         -0.389597\n",
       "depression           -0.213110\n",
       "Name: polarity_score, dtype: float64"
      ]
     },
     "execution_count": 62,
     "metadata": {},
     "output_type": "execute_result"
    }
   ],
   "source": [
    "# only casual conversation subreddit has a positive mean polarity score.\n",
    "filtered.groupby('subreddit').polarity_score.mean()"
   ]
  },
  {
   "cell_type": "code",
   "execution_count": 63,
   "id": "0bb4eedc",
   "metadata": {
    "colab": {
     "base_uri": "https://localhost:8080/"
    },
    "id": "0bb4eedc",
    "outputId": "e92189e7-62b3-44f1-c404-f969af04cfe2"
   },
   "outputs": [
    {
     "name": "stdout",
     "output_type": "stream",
     "text": [
      "C-value 0.01 and accuracy : 0.44157814871016693\n",
      "C-value 0.1 and accuracy : 0.716236722306525\n",
      "C-value 0.5 and accuracy : 0.7177541729893778\n",
      "C-value 1 and accuracy : 0.716236722306525\n",
      "C-value 2 and accuracy : 0.7147192716236722\n",
      "C-value 3 and accuracy : 0.7040971168437026\n",
      "C-value 4 and accuracy : 0.7040971168437026\n",
      "C-value 5 and accuracy : 0.701062215477997\n"
     ]
    }
   ],
   "source": [
    "# Implementing Logistic regression on cleaned text improved the results significantly\n",
    "from sklearn.linear_model import LogisticRegression\n",
    "from sklearn.feature_extraction.text import TfidfVectorizer\n",
    "#from sklearn.feature_extraction.\n",
    "tfidf = TfidfVectorizer()\n",
    "X = tfidf.fit_transform(filtered['cleaned_text'])\n",
    "y = filtered[\"subreddit_labels\"]\n",
    "X_train, X_test, y_train, y_test = train_test_split(X, filtered[\"subreddit_labels\"])\n",
    "for i in [0.01,0.1,0.5,1,2,3,4,5]:\n",
    "    model = LogisticRegression(C = i)\n",
    "    model.fit(X_train, y_train)\n",
    "    y_pred = model.predict(X_test)\n",
    "    print(f\"C-value {i} and accuracy : {accuracy_score(y_pred, y_test)}\")"
   ]
  },
  {
   "cell_type": "markdown",
   "id": "b817fe68",
   "metadata": {},
   "source": [
    "## Support Vector Classifier"
   ]
  },
  {
   "cell_type": "code",
   "execution_count": 64,
   "id": "9f5b3d0d",
   "metadata": {
    "colab": {
     "base_uri": "https://localhost:8080/"
    },
    "id": "9f5b3d0d",
    "outputId": "29c4f9a1-219b-4e97-b6b2-4e48afd06269"
   },
   "outputs": [
    {
     "name": "stdout",
     "output_type": "stream",
     "text": [
      "C - Value: 0.01 and accuracy : 0.3520485584218513\n",
      "C - Value: 0.1 and accuracy : 0.3520485584218513\n",
      "C - Value: 0.5 and accuracy : 0.7071320182094082\n",
      "C - Value: 1 and accuracy : 0.7298937784522003\n",
      "C - Value: 2 and accuracy : 0.7192716236722306\n",
      "C - Value: 3 and accuracy : 0.7192716236722306\n",
      "C - Value: 4 and accuracy : 0.716236722306525\n",
      "C - Value: 5 and accuracy : 0.7147192716236722\n"
     ]
    }
   ],
   "source": [
    "# Implementing Support Vector Classifier\n",
    "from sklearn.svm import SVC\n",
    "for i in [0.01,0.1,0.5,1,2,3,4,5]:\n",
    "    model = SVC(C=i)\n",
    "    model.fit(X_train, y_train)\n",
    "    y_pred = model.predict(X_test)\n",
    "    print(f\"C - Value: {i} and accuracy : {accuracy_score(y_pred, y_test)}\")"
   ]
  },
  {
   "cell_type": "code",
   "execution_count": 65,
   "id": "d5acf7ff",
   "metadata": {
    "colab": {
     "base_uri": "https://localhost:8080/"
    },
    "id": "d5acf7ff",
    "outputId": "59bd1474-2f2b-4c9d-e8ed-26d5bab0bbc3"
   },
   "outputs": [
    {
     "name": "stdout",
     "output_type": "stream",
     "text": [
      "N-Estimators: 100 and accuracy : 0.7025796661608498\n",
      "N-Estimators: 200 and accuracy : 0.7132018209408194\n",
      "N-Estimators: 300 and accuracy : 0.7177541729893778\n",
      "N-Estimators: 400 and accuracy : 0.7071320182094082\n",
      "N-Estimators: 500 and accuracy : 0.723823975720789\n",
      "N-Estimators: 1000 and accuracy : 0.7298937784522003\n"
     ]
    }
   ],
   "source": [
    "# Implementing Random Forest Classifier\n",
    "from sklearn.ensemble import RandomForestClassifier\n",
    "for i in [100,200,300,400,500,1000]:\n",
    "    model = RandomForestClassifier(n_estimators=i)\n",
    "    model.fit(X_train, y_train)\n",
    "    y_pred = model.predict(X_test)\n",
    "    print(f\"N-Estimators: {i} and accuracy : {accuracy_score(y_pred, y_test)}\")"
   ]
  },
  {
   "cell_type": "code",
   "execution_count": 66,
   "id": "6c2e0644",
   "metadata": {
    "colab": {
     "base_uri": "https://localhost:8080/"
    },
    "id": "6c2e0644",
    "outputId": "3a637a51-b518-4eb5-b8f4-21d6aaab5da3"
   },
   "outputs": [
    {
     "name": "stdout",
     "output_type": "stream",
     "text": [
      "              precision    recall  f1-score   support\n",
      "\n",
      "           3       0.78      0.68      0.73       268\n",
      "           4       0.59      0.67      0.63       197\n",
      "           5       0.82      0.86      0.84       194\n",
      "\n",
      "    accuracy                           0.73       659\n",
      "   macro avg       0.73      0.74      0.73       659\n",
      "weighted avg       0.74      0.73      0.73       659\n",
      "\n"
     ]
    }
   ],
   "source": [
    "# Printing out the Classficiation report for the Random Forest Model\n",
    "from sklearn.metrics import classification_report\n",
    "\n",
    "print(classification_report(y_pred, y_test))"
   ]
  },
  {
   "cell_type": "code",
   "execution_count": 67,
   "id": "599e61d7",
   "metadata": {
    "id": "599e61d7"
   },
   "outputs": [],
   "source": [
    "# Performing Train-test split\n",
    "y = filtered[\"subreddit_labels\"]\n",
    "X_train, X_test, y_train, y_test = train_test_split(filtered['cleaned_text'].str.split(\" \"),y)"
   ]
  },
  {
   "cell_type": "code",
   "execution_count": 68,
   "id": "87411008",
   "metadata": {
    "id": "87411008"
   },
   "outputs": [],
   "source": [
    "# Loading the pre-processed data which was stored in a csv file\n",
    "df = pd.read_csv(\"/content/data_preprocessed.csv\")"
   ]
  },
  {
   "cell_type": "code",
   "execution_count": null,
   "id": "31d807c1",
   "metadata": {
    "id": "31d807c1"
   },
   "outputs": [],
   "source": [
    "topics = []\n",
    "for i in range(len(df)):\n",
    "    topics.append(df[\"url\"].iloc[i].split('/')[4])"
   ]
  },
  {
   "cell_type": "code",
   "execution_count": null,
   "id": "417c0d20",
   "metadata": {
    "id": "417c0d20"
   },
   "outputs": [],
   "source": [
    "df[\"Topics\"] = topics"
   ]
  },
  {
   "cell_type": "code",
   "execution_count": null,
   "id": "902127b3",
   "metadata": {
    "colab": {
     "base_uri": "https://localhost:8080/",
     "height": 419
    },
    "id": "902127b3",
    "outputId": "740daed6-3d36-4f63-93a3-8e6c073ed3bb"
   },
   "outputs": [
    {
     "data": {
      "text/html": [
       "\n",
       "  <div id=\"df-f69442a0-82b0-4f38-b3e6-c219ab4ab81e\">\n",
       "    <div class=\"colab-df-container\">\n",
       "      <div>\n",
       "<style scoped>\n",
       "    .dataframe tbody tr th:only-of-type {\n",
       "        vertical-align: middle;\n",
       "    }\n",
       "\n",
       "    .dataframe tbody tr th {\n",
       "        vertical-align: top;\n",
       "    }\n",
       "\n",
       "    .dataframe thead th {\n",
       "        text-align: right;\n",
       "    }\n",
       "</style>\n",
       "<table border=\"1\" class=\"dataframe\">\n",
       "  <thead>\n",
       "    <tr style=\"text-align: right;\">\n",
       "      <th></th>\n",
       "      <th>lemmatization_nuon_adj</th>\n",
       "      <th>Topics</th>\n",
       "    </tr>\n",
       "  </thead>\n",
       "  <tbody>\n",
       "    <tr>\n",
       "      <th>0</th>\n",
       "      <td>craving closeness year relationship future tou...</td>\n",
       "      <td>mentalhealth</td>\n",
       "    </tr>\n",
       "    <tr>\n",
       "      <th>1</th>\n",
       "      <td>mental health class school mandatory mental he...</td>\n",
       "      <td>mentalhealth</td>\n",
       "    </tr>\n",
       "    <tr>\n",
       "      <th>2</th>\n",
       "      <td>7yo son pet bird yr son help advice trauma fir...</td>\n",
       "      <td>mentalhealth</td>\n",
       "    </tr>\n",
       "    <tr>\n",
       "      <th>3</th>\n",
       "      <td>covid world mental health bad battle life anxi...</td>\n",
       "      <td>mentalhealth</td>\n",
       "    </tr>\n",
       "    <tr>\n",
       "      <th>4</th>\n",
       "      <td>mental health due toxic household note previou...</td>\n",
       "      <td>mentalhealth</td>\n",
       "    </tr>\n",
       "    <tr>\n",
       "      <th>...</th>\n",
       "      <td>...</td>\n",
       "      <td>...</td>\n",
       "    </tr>\n",
       "    <tr>\n",
       "      <th>5990</th>\n",
       "      <td>year old stepson empty box play package big pe...</td>\n",
       "      <td>CasualConversation</td>\n",
       "    </tr>\n",
       "    <tr>\n",
       "      <th>5991</th>\n",
       "      <td>funny whole life people funny joke funny story...</td>\n",
       "      <td>CasualConversation</td>\n",
       "    </tr>\n",
       "    <tr>\n",
       "      <th>5992</th>\n",
       "      <td>one word good friend immature weird call frien...</td>\n",
       "      <td>CasualConversation</td>\n",
       "    </tr>\n",
       "    <tr>\n",
       "      <th>5993</th>\n",
       "      <td>big fear physical pain physical pain want last...</td>\n",
       "      <td>CasualConversation</td>\n",
       "    </tr>\n",
       "    <tr>\n",
       "      <th>5994</th>\n",
       "      <td>well way egg</td>\n",
       "      <td>CasualConversation</td>\n",
       "    </tr>\n",
       "  </tbody>\n",
       "</table>\n",
       "<p>5995 rows × 2 columns</p>\n",
       "</div>\n",
       "      <button class=\"colab-df-convert\" onclick=\"convertToInteractive('df-f69442a0-82b0-4f38-b3e6-c219ab4ab81e')\"\n",
       "              title=\"Convert this dataframe to an interactive table.\"\n",
       "              style=\"display:none;\">\n",
       "        \n",
       "  <svg xmlns=\"http://www.w3.org/2000/svg\" height=\"24px\"viewBox=\"0 0 24 24\"\n",
       "       width=\"24px\">\n",
       "    <path d=\"M0 0h24v24H0V0z\" fill=\"none\"/>\n",
       "    <path d=\"M18.56 5.44l.94 2.06.94-2.06 2.06-.94-2.06-.94-.94-2.06-.94 2.06-2.06.94zm-11 1L8.5 8.5l.94-2.06 2.06-.94-2.06-.94L8.5 2.5l-.94 2.06-2.06.94zm10 10l.94 2.06.94-2.06 2.06-.94-2.06-.94-.94-2.06-.94 2.06-2.06.94z\"/><path d=\"M17.41 7.96l-1.37-1.37c-.4-.4-.92-.59-1.43-.59-.52 0-1.04.2-1.43.59L10.3 9.45l-7.72 7.72c-.78.78-.78 2.05 0 2.83L4 21.41c.39.39.9.59 1.41.59.51 0 1.02-.2 1.41-.59l7.78-7.78 2.81-2.81c.8-.78.8-2.07 0-2.86zM5.41 20L4 18.59l7.72-7.72 1.47 1.35L5.41 20z\"/>\n",
       "  </svg>\n",
       "      </button>\n",
       "      \n",
       "  <style>\n",
       "    .colab-df-container {\n",
       "      display:flex;\n",
       "      flex-wrap:wrap;\n",
       "      gap: 12px;\n",
       "    }\n",
       "\n",
       "    .colab-df-convert {\n",
       "      background-color: #E8F0FE;\n",
       "      border: none;\n",
       "      border-radius: 50%;\n",
       "      cursor: pointer;\n",
       "      display: none;\n",
       "      fill: #1967D2;\n",
       "      height: 32px;\n",
       "      padding: 0 0 0 0;\n",
       "      width: 32px;\n",
       "    }\n",
       "\n",
       "    .colab-df-convert:hover {\n",
       "      background-color: #E2EBFA;\n",
       "      box-shadow: 0px 1px 2px rgba(60, 64, 67, 0.3), 0px 1px 3px 1px rgba(60, 64, 67, 0.15);\n",
       "      fill: #174EA6;\n",
       "    }\n",
       "\n",
       "    [theme=dark] .colab-df-convert {\n",
       "      background-color: #3B4455;\n",
       "      fill: #D2E3FC;\n",
       "    }\n",
       "\n",
       "    [theme=dark] .colab-df-convert:hover {\n",
       "      background-color: #434B5C;\n",
       "      box-shadow: 0px 1px 3px 1px rgba(0, 0, 0, 0.15);\n",
       "      filter: drop-shadow(0px 1px 2px rgba(0, 0, 0, 0.3));\n",
       "      fill: #FFFFFF;\n",
       "    }\n",
       "  </style>\n",
       "\n",
       "      <script>\n",
       "        const buttonEl =\n",
       "          document.querySelector('#df-f69442a0-82b0-4f38-b3e6-c219ab4ab81e button.colab-df-convert');\n",
       "        buttonEl.style.display =\n",
       "          google.colab.kernel.accessAllowed ? 'block' : 'none';\n",
       "\n",
       "        async function convertToInteractive(key) {\n",
       "          const element = document.querySelector('#df-f69442a0-82b0-4f38-b3e6-c219ab4ab81e');\n",
       "          const dataTable =\n",
       "            await google.colab.kernel.invokeFunction('convertToInteractive',\n",
       "                                                     [key], {});\n",
       "          if (!dataTable) return;\n",
       "\n",
       "          const docLinkHtml = 'Like what you see? Visit the ' +\n",
       "            '<a target=\"_blank\" href=https://colab.research.google.com/notebooks/data_table.ipynb>data table notebook</a>'\n",
       "            + ' to learn more about interactive tables.';\n",
       "          element.innerHTML = '';\n",
       "          dataTable['output_type'] = 'display_data';\n",
       "          await google.colab.output.renderOutput(dataTable, element);\n",
       "          const docLink = document.createElement('div');\n",
       "          docLink.innerHTML = docLinkHtml;\n",
       "          element.appendChild(docLink);\n",
       "        }\n",
       "      </script>\n",
       "    </div>\n",
       "  </div>\n",
       "  "
      ],
      "text/plain": [
       "                                 lemmatization_nuon_adj              Topics\n",
       "0     craving closeness year relationship future tou...        mentalhealth\n",
       "1     mental health class school mandatory mental he...        mentalhealth\n",
       "2     7yo son pet bird yr son help advice trauma fir...        mentalhealth\n",
       "3     covid world mental health bad battle life anxi...        mentalhealth\n",
       "4     mental health due toxic household note previou...        mentalhealth\n",
       "...                                                 ...                 ...\n",
       "5990  year old stepson empty box play package big pe...  CasualConversation\n",
       "5991  funny whole life people funny joke funny story...  CasualConversation\n",
       "5992  one word good friend immature weird call frien...  CasualConversation\n",
       "5993  big fear physical pain physical pain want last...  CasualConversation\n",
       "5994                                       well way egg  CasualConversation\n",
       "\n",
       "[5995 rows x 2 columns]"
      ]
     },
     "execution_count": 5,
     "metadata": {},
     "output_type": "execute_result"
    }
   ],
   "source": [
    "df[[\"lemmatization_nuon_adj\", \"Topics\"]]"
   ]
  },
  {
   "cell_type": "code",
   "execution_count": null,
   "id": "b85c5cf0",
   "metadata": {
    "id": "b85c5cf0"
   },
   "outputs": [],
   "source": [
    "df = df.drop(columns = [\"Unnamed: 0\"])"
   ]
  },
  {
   "cell_type": "code",
   "execution_count": null,
   "id": "2b659d62",
   "metadata": {
    "id": "2b659d62",
    "scrolled": true
   },
   "outputs": [],
   "source": [
    "df_req = df[\"lemmatization_nuon_adj\"]"
   ]
  },
  {
   "cell_type": "code",
   "execution_count": null,
   "id": "f3ec1054",
   "metadata": {
    "colab": {
     "base_uri": "https://localhost:8080/"
    },
    "id": "f3ec1054",
    "outputId": "a96a01a6-a285-4afd-83b8-aba0d141a105"
   },
   "outputs": [
    {
     "data": {
      "text/plain": [
       "28"
      ]
     },
     "execution_count": 9,
     "metadata": {},
     "output_type": "execute_result"
    }
   ],
   "source": [
    "df_req.isnull().sum()"
   ]
  },
  {
   "cell_type": "code",
   "execution_count": null,
   "id": "d6908b98",
   "metadata": {
    "id": "d6908b98"
   },
   "outputs": [],
   "source": [
    "df_req = df_req.dropna()"
   ]
  },
  {
   "cell_type": "code",
   "execution_count": null,
   "id": "e84cdaa0",
   "metadata": {
    "id": "e84cdaa0"
   },
   "outputs": [],
   "source": [
    "# Forming bigrams from the sentence for further analysis\n",
    "import gensim\n",
    "def bigrams(words, bi_min=15, tri_min=10):\n",
    "    bigram = gensim.models.Phrases(words, min_count = bi_min)\n",
    "    bigram_mod = gensim.models.phrases.Phraser(bigram)\n",
    "    return bigram_mod\n",
    "# Converting the given sentence to words\n",
    "def sent_to_words(sentences):\n",
    "    for sentence in sentences:\n",
    "        yield(gensim.utils.simple_preprocess(str(sentence), deacc=True))\n",
    "\n",
    "def get_corpus(df):\n",
    "    words = list(sent_to_words(df))\n",
    "    bigram_mod = bigrams(words)\n",
    "    bigram = [bigram_mod[review] for review in words]\n",
    "    id2word = gensim.corpora.Dictionary(bigram)\n",
    "    id2word.filter_extremes(no_below=10, no_above=0.35)\n",
    "    id2word.compactify()\n",
    "    corpus = [id2word.doc2bow(text) for text in bigram]\n",
    "    return corpus, id2word, bigram"
   ]
  },
  {
   "cell_type": "code",
   "execution_count": null,
   "id": "14897f22",
   "metadata": {
    "id": "14897f22"
   },
   "outputs": [],
   "source": [
    "df_req = df[\"lemmatization_nuon_adj\"]"
   ]
  },
  {
   "cell_type": "code",
   "execution_count": null,
   "id": "ba60a734",
   "metadata": {
    "id": "ba60a734"
   },
   "outputs": [],
   "source": [
    "corpus_req, id2word_req, bigram_req = get_corpus(df_req)"
   ]
  },
  {
   "cell_type": "markdown",
   "id": "e9665496",
   "metadata": {},
   "source": [
    "## Latent Dirichlet Allocation"
   ]
  },
  {
   "cell_type": "code",
   "execution_count": null,
   "id": "d28d21d6",
   "metadata": {
    "id": "d28d21d6"
   },
   "outputs": [],
   "source": [
    "# Implementing Linear Dirichlet Allocation to find keywords within each topic\n",
    "chunk_size = len(corpus_req) * (10/200)\n",
    "lda_model = gensim.models.ldamulticore.LdaMulticore(num_topics=2, \n",
    "                                       corpus=corpus_req, \n",
    "                                       id2word=id2word_req, \n",
    "                                       passes=10, \n",
    "                                       workers= 10,\n",
    "                                       chunksize = chunk_size,\n",
    "                                       alpha = 0.5, \n",
    "                                       random_state = 42,eval_every = 1,per_word_topics=True)"
   ]
  },
  {
   "cell_type": "code",
   "execution_count": null,
   "id": "25093daa",
   "metadata": {
    "colab": {
     "base_uri": "https://localhost:8080/"
    },
    "id": "25093daa",
    "outputId": "d5f8b21e-c933-44ce-85e6-a69c745fb84e"
   },
   "outputs": [
    {
     "data": {
      "text/plain": [
       "[(0,\n",
       "  '0.024*\"life\" + 0.023*\"people\" + 0.020*\"thing\" + 0.019*\"time\" + 0.019*\"friend\" + 0.012*\"good\" + 0.011*\"bad\" + 0.011*\"way\" + 0.011*\"day\" + 0.010*\"year\" + 0.009*\"person\" + 0.008*\"relationship\" + 0.007*\"much\" + 0.007*\"family\" + 0.006*\"happy\" + 0.006*\"well\" + 0.006*\"point\" + 0.005*\"lot\" + 0.005*\"mom\" + 0.005*\"feeling\"'),\n",
       " (1,\n",
       "  '0.020*\"day\" + 0.017*\"time\" + 0.016*\"anxiety\" + 0.012*\"thing\" + 0.011*\"bad\" + 0.011*\"year\" + 0.009*\"work\" + 0.009*\"good\" + 0.008*\"job\" + 0.008*\"people\" + 0.008*\"lot\" + 0.008*\"week\" + 0.007*\"month\" + 0.006*\"today\" + 0.006*\"help\" + 0.006*\"hour\" + 0.006*\"new\" + 0.005*\"life\" + 0.005*\"school\" + 0.005*\"anxious\"')]"
      ]
     },
     "execution_count": 17,
     "metadata": {},
     "output_type": "execute_result"
    }
   ],
   "source": [
    "lda_model.print_topics(20, num_words=20)"
   ]
  },
  {
   "cell_type": "code",
   "execution_count": null,
   "id": "dd031cd8",
   "metadata": {
    "colab": {
     "base_uri": "https://localhost:8080/"
    },
    "id": "dd031cd8",
    "outputId": "93d219d3-9845-4472-eaf8-ec7a52bfad7e"
   },
   "outputs": [
    {
     "name": "stdout",
     "output_type": "stream",
     "text": [
      "Topic: 0 \n",
      "Words: 0.024*\"life\" + 0.023*\"people\" + 0.020*\"thing\" + 0.019*\"time\" + 0.019*\"friend\" + 0.012*\"good\" + 0.011*\"bad\" + 0.011*\"way\" + 0.011*\"day\" + 0.010*\"year\" + 0.009*\"person\" + 0.008*\"relationship\" + 0.007*\"much\" + 0.007*\"family\" + 0.006*\"happy\" + 0.006*\"well\" + 0.006*\"point\" + 0.005*\"lot\" + 0.005*\"mom\" + 0.005*\"feeling\"\n",
      "Topic: 1 \n",
      "Words: 0.020*\"day\" + 0.017*\"time\" + 0.016*\"anxiety\" + 0.012*\"thing\" + 0.011*\"bad\" + 0.011*\"year\" + 0.009*\"work\" + 0.009*\"good\" + 0.008*\"job\" + 0.008*\"people\" + 0.008*\"lot\" + 0.008*\"week\" + 0.007*\"month\" + 0.006*\"today\" + 0.006*\"help\" + 0.006*\"hour\" + 0.006*\"new\" + 0.005*\"life\" + 0.005*\"school\" + 0.005*\"anxious\"\n"
     ]
    }
   ],
   "source": [
    "for idx, topic in lda_model.print_topics(-1, num_words = 20):\n",
    "    print('Topic: {} \\nWords: {}'.format(idx, topic))"
   ]
  },
  {
   "cell_type": "markdown",
   "id": "7bd944a7",
   "metadata": {
    "id": "7bd944a7"
   },
   "source": [
    "[(0,\n",
    "  '0.024*\"life\" + 0.023*\"people\" + 0.020*\"thing\" + 0.019*\"time\" + 0.019*\"friend\" + 0.012*\"good\" + 0.011*\"bad\" + 0.011*\"day\" + 0.011*\"way\" + 0.010*\"year\" + 0.009*\"person\" + 0.008*\"relationship\" + 0.007*\"much\" + 0.007*\"family\" + 0.006*\"happy\"'),\n",
    " (1,\n",
    "  '0.019*\"day\" + 0.017*\"time\" + 0.016*\"anxiety\" + 0.012*\"thing\" + 0.011*\"year\" + 0.011*\"bad\" + 0.009*\"work\" + 0.009*\"good\" + 0.008*\"people\" + 0.008*\"job\" + 0.008*\"lot\" + 0.008*\"week\" + 0.007*\"month\" + 0.006*\"help\" + 0.006*\"today\"')]"
   ]
  },
  {
   "cell_type": "code",
   "execution_count": null,
   "id": "4e0ed928",
   "metadata": {
    "colab": {
     "base_uri": "https://localhost:8080/"
    },
    "id": "4e0ed928",
    "outputId": "920a9b92-557d-4108-9875-9f1f8647523a"
   },
   "outputs": [
    {
     "name": "stdout",
     "output_type": "stream",
     "text": [
      "1 \"life\", \"people\", \"thing\", \"time\", \"friend\", \"good\", \"bad\", \"way\", \"day\", \"year\", \"person\", \"relationship\", \"much\", \"family\", \"happy\", \"well\", \"point\", \"lot\", \"mom\", \"feeling\"\n",
      "2 \"day\", \"time\", \"anxiety\", \"thing\", \"bad\", \"year\", \"work\", \"good\", \"job\", \"people\", \"lot\", \"week\", \"month\", \"today\", \"help\", \"hour\", \"new\", \"life\", \"school\", \"anxious\"\n"
     ]
    }
   ],
   "source": [
    "import regex as re\n",
    "model_out = lda_model[corpus_req]\n",
    "# get the topic descriptions\n",
    "topic_sep = re.compile(\"0\\.[0-9]{3}\\*\") # getting rid of useless formatting\n",
    "# extract a list of tuples with topic number and descriptors from the model\n",
    "model_topics = [(topic_no, re.sub(topic_sep, '', model_topic).split(' + ')) \n",
    "                for topic_no, model_topic in\n",
    "                lda_model.print_topics(num_topics=2, num_words=20)]\n",
    "\n",
    "descriptors = []\n",
    "cor_dic = {}\n",
    "for i, m in model_topics:\n",
    "    print(i+1, \", \".join(m[:20]))\n",
    "    descriptors.append(\", \".join(m[:20]).replace('\"', ''))\n",
    "    cor_dic[i+1] = m"
   ]
  },
  {
   "cell_type": "code",
   "execution_count": null,
   "id": "7901df20",
   "metadata": {
    "colab": {
     "base_uri": "https://localhost:8080/"
    },
    "id": "7901df20",
    "outputId": "904e79ac-3f31-41f6-b8bb-5ce3f2328137"
   },
   "outputs": [
    {
     "name": "stdout",
     "output_type": "stream",
     "text": [
      "[(0, ['\"life\"', '\"people\"', '\"thing\"', '\"time\"', '\"friend\"', '\"good\"', '\"bad\"', '\"way\"', '\"day\"', '\"year\"', '\"person\"', '\"relationship\"', '\"much\"', '\"family\"', '\"happy\"', '\"well\"', '\"point\"', '\"lot\"', '\"mom\"', '\"feeling\"']), (1, ['\"day\"', '\"time\"', '\"anxiety\"', '\"thing\"', '\"bad\"', '\"year\"', '\"work\"', '\"good\"', '\"job\"', '\"people\"', '\"lot\"', '\"week\"', '\"month\"', '\"today\"', '\"help\"', '\"hour\"', '\"new\"', '\"life\"', '\"school\"', '\"anxious\"'])]\n"
     ]
    }
   ],
   "source": [
    "print(model_topics)"
   ]
  },
  {
   "cell_type": "code",
   "execution_count": null,
   "id": "306646f6",
   "metadata": {
    "colab": {
     "base_uri": "https://localhost:8080/"
    },
    "id": "306646f6",
    "outputId": "8d069e36-faa9-47ad-a6f6-413c2baae2ab"
   },
   "outputs": [
    {
     "name": "stdout",
     "output_type": "stream",
     "text": [
      "['\"life\"', '\"people\"', '\"thing\"', '\"time\"', '\"friend\"', '\"good\"', '\"bad\"', '\"way\"', '\"day\"', '\"year\"', '\"person\"', '\"relationship\"', '\"much\"', '\"family\"', '\"happy\"', '\"well\"', '\"point\"', '\"lot\"', '\"mom\"', '\"feeling\"']\n"
     ]
    }
   ],
   "source": [
    "print(model_topics[0][1][:20])"
   ]
  },
  {
   "cell_type": "code",
   "execution_count": null,
   "id": "b9ee8367",
   "metadata": {
    "colab": {
     "base_uri": "https://localhost:8080/"
    },
    "id": "b9ee8367",
    "outputId": "6e9105e5-7f5f-41ac-b2e0-f35eed023cd2"
   },
   "outputs": [
    {
     "name": "stdout",
     "output_type": "stream",
     "text": [
      "['\"people\"', '\"thing\"', '\"time\"', '\"friend\"', '\"good\"', '\"bad\"', '\"way\"', '\"day\"', '\"year\"', '\"person\"', '\"relationship\"', '\"much\"', '\"family\"', '\"happy\"', '\"well\"', '\"point\"', '\"lot\"', '\"mom\"']\n"
     ]
    }
   ],
   "source": [
    "print(model_topics[0][1][:20][1:-1])"
   ]
  },
  {
   "cell_type": "code",
   "execution_count": null,
   "id": "d53f9163",
   "metadata": {
    "id": "d53f9163"
   },
   "outputs": [],
   "source": [
    "import random\n",
    "from gensim.models.phrases import Phrases, Phraser\n",
    "import gensim.corpora\n",
    "from gensim.corpora import Dictionary\n",
    "from gensim.models.phrases import Phrases, Phraser\n",
    "from gensim import corpora, models\n",
    "def generate_topics(num_topics, df = df[\"lemmatization_nuon_adj\"].copy()):\n",
    "\n",
    "    import gensim\n",
    "    def bigrams(words, bi_min=15, tri_min=10):\n",
    "        bigram = gensim.models.Phrases(words, min_count = bi_min)\n",
    "        bigram_mod = gensim.models.phrases.Phraser(bigram)\n",
    "        return bigram_mod\n",
    "\n",
    "    def sent_to_words(sentences):\n",
    "        for sentence in sentences:\n",
    "            yield(gensim.utils.simple_preprocess(str(sentence), deacc=True))\n",
    "\n",
    "    def get_corpus(df):\n",
    "        words = list(sent_to_words(df))\n",
    "        bigram_mod = bigrams(words)\n",
    "        bigram = [bigram_mod[review] for review in words]\n",
    "        id2word = gensim.corpora.Dictionary(bigram)\n",
    "        id2word.filter_extremes(no_below=10, no_above=0.35)\n",
    "        id2word.compactify()\n",
    "        corpus = [id2word.doc2bow(text) for text in bigram]\n",
    "        return corpus, id2word, bigram\n",
    "    \n",
    "    corpus_req, id2word_req, bigram_req = get_corpus(df_req)\n",
    "    \n",
    "    \n",
    "    lda_train = gensim.models.ldamulticore.LdaMulticore(\n",
    "                           corpus=corpus_req,\n",
    "                           num_topics=2,\n",
    "                           id2word=id2word_req,\n",
    "                           chunksize=100,\n",
    "                           workers=9, \n",
    "                           passes=50,\n",
    "                           eval_every = 1,\n",
    "                           per_word_topics=True)\n",
    "\n",
    "\n",
    "    # transform the data into topic distros\n",
    "    topic_corpus = lda_train[corpus_req]\n",
    "\n",
    "    # get the topic descriptions\n",
    "    topic_sep = re.compile(\"0\\.[0-9]{3}\\*\") # getting rid of useless formatting\n",
    "    # extract a list of tuples with topic number and descriptors from the model\n",
    "    model_topics = [(topic_no, re.sub(topic_sep, '', model_topic).split(' + ')) \n",
    "                    for topic_no, model_topic in\n",
    "                    lda_train.print_topics(num_topics=num_topics, num_words=20)]\n",
    "\n",
    "    descriptors = []\n",
    "    for i, m in model_topics:\n",
    "        print(i+1, \", \".join(m[:10]))\n",
    "        descriptors.append(\", \".join(m[:10]).replace('\"', ''))\n",
    "    \n",
    "    return model_topics"
   ]
  },
  {
   "cell_type": "code",
   "execution_count": null,
   "id": "ecd42241",
   "metadata": {
    "id": "ecd42241"
   },
   "outputs": [],
   "source": [
    "# Performing cleaning on the topics\n",
    "def clean_topics(topics):\n",
    "    \n",
    "    topic_1 = []\n",
    "\n",
    "    for t in topics[0][1][:20]:\n",
    "        topic_1.append(t[1:-1])\n",
    "        \n",
    "    topic_2 = []\n",
    "\n",
    "    for t in topics[1][1][:20]:\n",
    "        topic_2.append(t[1:-1])\n",
    "        \n",
    "    topic_mixed = list(set(topic_1) & set(topic_2))\n",
    "    \n",
    "    return topic_1, topic_2, topic_mixed"
   ]
  },
  {
   "cell_type": "code",
   "execution_count": null,
   "id": "85457913",
   "metadata": {
    "colab": {
     "base_uri": "https://localhost:8080/"
    },
    "id": "85457913",
    "outputId": "a60203c2-3e1f-4801-88d1-ed2adea7657f"
   },
   "outputs": [
    {
     "data": {
      "text/plain": [
       "2"
      ]
     },
     "execution_count": 42,
     "metadata": {},
     "output_type": "execute_result"
    }
   ],
   "source": [
    "len(model_topics)"
   ]
  },
  {
   "cell_type": "code",
   "execution_count": null,
   "id": "9f798ab0",
   "metadata": {
    "id": "9f798ab0"
   },
   "outputs": [],
   "source": [
    "data = df['lemmatization_nuon_adj'].copy()\n",
    "data = data.dropna()\n",
    "data = data.sample(frac=1)\n",
    "\n",
    "n_splits = 5\n",
    "N = len(data)\n",
    "size = int(N*(1/n_splits)) \n",
    "\n",
    "data_split_list = []\n",
    "\n",
    "for i in range(n_splits):\n",
    "    \n",
    "    start_index = i*size\n",
    "    end_index = (i+1)*size\n",
    "    \n",
    "    data_i = data[start_index:end_index]\n",
    "    \n",
    "    data_split_list.append(data_i)"
   ]
  },
  {
   "cell_type": "code",
   "execution_count": null,
   "id": "5e240334",
   "metadata": {
    "id": "5e240334",
    "scrolled": true
   },
   "outputs": [],
   "source": [
    "t1, t2, tm = clean_topics(model_topics)"
   ]
  },
  {
   "cell_type": "code",
   "execution_count": null,
   "id": "9eb07fbc",
   "metadata": {
    "id": "9eb07fbc"
   },
   "outputs": [],
   "source": [
    "# checking for good topics \n",
    "def check_good_topics(topic_1, topic_2, topic_mixed, topic_pilar = 'depression'):\n",
    "    \n",
    "    dict_topic = dict()\n",
    "\n",
    "    if topic_pilar in topic_mixed:\n",
    "        return dict_topic\n",
    "\n",
    "    if topic_pilar not in topic_1+topic_2:\n",
    "        return dict_topic\n",
    "\n",
    "    if topic_pilar in topic_1:\n",
    "        dict_topic['topic_1'] = 'A'\n",
    "        dict_topic['topic_2'] = 'B'\n",
    "\n",
    "    else:\n",
    "        dict_topic['topic_1'] = 'B'\n",
    "        dict_topic['topic_2'] = 'A'\n",
    "        \n",
    "    return dict_topic"
   ]
  },
  {
   "cell_type": "code",
   "execution_count": null,
   "id": "43b4157d",
   "metadata": {
    "colab": {
     "base_uri": "https://localhost:8080/"
    },
    "id": "43b4157d",
    "outputId": "14d94af7-b985-4192-d7d2-e547428a573c"
   },
   "outputs": [
    {
     "data": {
      "text/plain": [
       "{'topic_1': 'B', 'topic_2': 'A'}"
      ]
     },
     "execution_count": 47,
     "metadata": {},
     "output_type": "execute_result"
    }
   ],
   "source": [
    "check_good_topics(t1, t2, tm, topic_pilar = \"anxiety\")"
   ]
  },
  {
   "cell_type": "code",
   "execution_count": null,
   "id": "4cc9682e",
   "metadata": {
    "id": "4cc9682e"
   },
   "outputs": [],
   "source": [
    "def build_n_topic_models(n_splits=n_splits, num_topics=2):\n",
    "    for i in range(n_splits):\n",
    "\n",
    "        good_current_topic = False\n",
    "\n",
    "        while not good_current_topic:\n",
    "\n",
    "            print(f\"Start iteration for topic number {i+1}\")\n",
    "\n",
    "#             topics = generate_topics(num_topics)\n",
    "            \n",
    "            # TODO: generate topics on the subset of the df to get context?\n",
    "            topics = generate_topics(num_topics, data_split_list[i])\n",
    "\n",
    "            topic_1, topic_2, topic_mixed = clean_topics(topics)\n",
    "            dict_topic = check_good_topics(topic_1, topic_2, topic_mixed, topic_pilar = 'anxiety')\n",
    "\n",
    "            if not dict_topic:\n",
    "                print(f\"\\tCURRENT ITERATION FAILED: start again\")\n",
    "\n",
    "            else:\n",
    "                good_current_topic = True\n",
    "                print(f\"\\tDone\")\n",
    "                yield (topic_1, topic_2, topic_mixed, dict_topic)"
   ]
  },
  {
   "cell_type": "code",
   "execution_count": null,
   "id": "fa217366",
   "metadata": {
    "colab": {
     "base_uri": "https://localhost:8080/"
    },
    "id": "fa217366",
    "outputId": "7fa87203-bb8a-4588-ef78-b769c4134f41"
   },
   "outputs": [
    {
     "name": "stdout",
     "output_type": "stream",
     "text": [
      "Start iteration for topic number 1\n",
      "1 \"people\", \"life\", \"friend\", \"thing\", \"time\", \"good\", \"year\", \"way\", \"person\", \"day\"\n",
      "2 \"day\", \"anxiety\", \"time\", \"bad\", \"thing\", \"week\", \"year\", \"month\", \"mom\", \"night\"\n",
      "\tDone\n",
      "Start iteration for topic number 2\n",
      "1 \"life\", \"people\", \"time\", \"friend\", \"thing\", \"year\", \"good\", \"day\", \"job\", \"family\"\n",
      "2 \"anxiety\", \"thing\", \"time\", \"day\", \"bad\", \"people\", \"good\", \"lot\", \"week\", \"relationship\"\n",
      "\tDone\n",
      "Start iteration for topic number 3\n",
      "1 \"people\", \"life\", \"friend\", \"time\", \"thing\", \"good\", \"year\", \"day\", \"way\", \"person\"\n",
      "2 \"anxiety\", \"day\", \"time\", \"bad\", \"thing\", \"week\", \"help\", \"month\", \"thought\", \"depression\"\n",
      "\tDone\n",
      "Start iteration for topic number 4\n",
      "1 \"time\", \"friend\", \"day\", \"good\", \"year\", \"people\", \"thing\", \"job\", \"life\", \"work\"\n",
      "2 \"life\", \"thing\", \"people\", \"bad\", \"time\", \"anxiety\", \"day\", \"way\", \"good\", \"relationship\"\n",
      "\tDone\n",
      "Start iteration for topic number 5\n",
      "1 \"day\", \"anxiety\", \"time\", \"year\", \"job\", \"work\", \"week\", \"bad\", \"thing\", \"month\"\n",
      "2 \"people\", \"life\", \"thing\", \"friend\", \"time\", \"good\", \"bad\", \"way\", \"person\", \"year\"\n",
      "\tDone\n"
     ]
    }
   ],
   "source": [
    "topic_models = [(t1, t2, tm, dict_topic) \n",
    "                for (t1, t2, tm, dict_topic) in build_n_topic_models(5)]"
   ]
  },
  {
   "cell_type": "code",
   "execution_count": null,
   "id": "9fbd30fb",
   "metadata": {
    "id": "9fbd30fb"
   },
   "outputs": [],
   "source": [
    "def get_data(df, topic_model):\n",
    "    \n",
    "    topic_1, topic_2, topic_mixed, dict_topic = topic_model\n",
    "\n",
    "    for post in df:\n",
    "        \n",
    "        words = []\n",
    "        tags = []\n",
    "\n",
    "        for word in post.split():\n",
    "\n",
    "            if word in topic_mixed:\n",
    "\n",
    "                # if in both topics, return a random tag\n",
    "                tag = random.choice(list(dict_topic.values()))\n",
    "\n",
    "            elif word in topic_1:\n",
    "                tag = dict_topic['topic_1']\n",
    "\n",
    "            elif word in topic_2:\n",
    "                tag = dict_topic['topic_2']\n",
    "\n",
    "            else:\n",
    "                tag = '0'\n",
    "\n",
    "            words.append(word)\n",
    "            tags.append(tag)\n",
    "\n",
    "        yield (words, tags)"
   ]
  },
  {
   "cell_type": "code",
   "execution_count": null,
   "id": "f0bb642d",
   "metadata": {
    "id": "f0bb642d"
   },
   "outputs": [],
   "source": []
  },
  {
   "cell_type": "code",
   "execution_count": null,
   "id": "edc83ca6",
   "metadata": {
    "id": "edc83ca6"
   },
   "outputs": [],
   "source": [
    "instances_list = []\n",
    "\n",
    "for i in range(n_splits):\n",
    "    \n",
    "    df_split = data_split_list[i]\n",
    "    topic_model = topic_models[i]\n",
    "    \n",
    "    instances = [(words, tags) for (words, tags) in get_data(df_split, topic_model)]\n",
    "    instances_list.append(instances)"
   ]
  },
  {
   "cell_type": "code",
   "execution_count": null,
   "id": "878ce44c",
   "metadata": {
    "id": "878ce44c"
   },
   "outputs": [],
   "source": [
    "train = instances_list[0]+instances_list[2]+instances_list[4]\n",
    "test = instances_list[1]+instances_list[3]"
   ]
  },
  {
   "cell_type": "code",
   "execution_count": null,
   "id": "5da50a86",
   "metadata": {
    "id": "5da50a86"
   },
   "outputs": [],
   "source": [
    "# collect known word tokens and tags\n",
    "\n",
    "wordset, tagset = set(), set()\n",
    "train_instances = train\n",
    "for (words, tags) in train_instances:\n",
    "    tagset.update(set(tags))\n",
    "    wordset.update(set(words))\n",
    "\n",
    "# map words and tags into ints\n",
    "PAD = '-PAD-'\n",
    "UNK = '-UNK-'\n",
    "word2int = {word: i + 2 for i, word in enumerate(sorted(wordset))}\n",
    "word2int[PAD] = 0  # special token for padding\n",
    "word2int[UNK] = 1  # special token for unknown words\n",
    " \n",
    "tag2int = {tag: i + 1 for i, tag in enumerate(sorted(tagset))}\n",
    "tag2int[PAD] = 0\n",
    "# to translate it back\n",
    "int2tag = {i:tag for tag, i in tag2int.items()}\n",
    "\n",
    "\n",
    "def convert2ints(instances):\n",
    "    result = []\n",
    "    for (words, tags) in instances:\n",
    "        # replace words with int, 1 for unknown words\n",
    "        word_ints = [word2int.get(word, 1) for word in words]\n",
    "        # replace tags with int\n",
    "        tag_ints = [tag2int[tag] for tag in tags]\n",
    "        result.append((word_ints, tag_ints))\n",
    "    return result    "
   ]
  },
  {
   "cell_type": "code",
   "execution_count": null,
   "id": "9f33d967",
   "metadata": {
    "colab": {
     "base_uri": "https://localhost:8080/"
    },
    "id": "9f33d967",
    "outputId": "2768e456-7e93-424c-bfc4-652e224f2b89"
   },
   "outputs": [
    {
     "name": "stdout",
     "output_type": "stream",
     "text": [
      "['mom', 'depression', 'year', 'negative', 'thing', 'part', 'depression', 'part', 'opportunity', 'mixed', 'bravery']\n",
      "[8189, 10044, 9681, 6516, 4375, 6477, 4735, 854, 5889, 6421, 9102]\n",
      "['0', '0', '0', '0', '0', '0', '0', 'B', 'B', '0', 'B']\n",
      "[1, 1, 1, 1, 1, 1, 1, 3, 3, 1, 3]\n"
     ]
    }
   ],
   "source": [
    "# get some test data\n",
    "test_instances = test\n",
    "\n",
    "# apply integer mapping\n",
    "train_instances_int = convert2ints(train)\n",
    "test_instances_int = convert2ints(test)\n",
    "\n",
    "# separate the words from the tags\n",
    "train_sentences, train_tags = zip(*train_instances_int) \n",
    "test_sentences, test_tags = zip(*test_instances_int) \n",
    "\n",
    "print(train_instances[1][0])\n",
    "print(train_sentences[0])\n",
    "print(train_instances[0][1])\n",
    "print(train_tags[0])"
   ]
  },
  {
   "cell_type": "code",
   "execution_count": null,
   "id": "62e13515",
   "metadata": {
    "colab": {
     "base_uri": "https://localhost:8080/"
    },
    "id": "62e13515",
    "outputId": "042d16fe-d2a7-47c5-b098-21ee504dd0e5"
   },
   "outputs": [
    {
     "name": "stdout",
     "output_type": "stream",
     "text": [
      "573\n"
     ]
    }
   ],
   "source": [
    "# get longest training sentence and add 5\n",
    "MAX_LENGTH = len(max(train_sentences, key=len)) + 5\n",
    "print(MAX_LENGTH)"
   ]
  },
  {
   "cell_type": "code",
   "execution_count": null,
   "id": "72c9d225",
   "metadata": {
    "colab": {
     "base_uri": "https://localhost:8080/"
    },
    "id": "72c9d225",
    "outputId": "1a5734d8-0df9-4d7c-975b-f8c3ec5a0fa5"
   },
   "outputs": [
    {
     "name": "stdout",
     "output_type": "stream",
     "text": [
      "[ 8189 10044  9681  6516  4375  6477  4735   854  5889  6421  9102     0\n",
      "     0     0     0     0     0     0     0     0     0     0     0     0\n",
      "     0     0     0     0     0     0     0     0     0     0     0     0\n",
      "     0     0     0     0     0     0     0     0     0     0     0     0\n",
      "     0     0     0     0     0     0     0     0     0     0     0     0\n",
      "     0     0     0     0     0     0     0     0     0     0     0     0\n",
      "     0     0     0     0     0     0     0     0     0     0     0     0\n",
      "     0     0     0     0     0     0     0     0     0     0     0     0\n",
      "     0     0     0     0     0     0     0     0     0     0     0     0\n",
      "     0     0     0     0     0     0     0     0     0     0     0     0\n",
      "     0     0     0     0     0     0     0     0     0     0     0     0\n",
      "     0     0     0     0     0     0     0     0     0     0     0     0\n",
      "     0     0     0     0     0     0     0     0     0     0     0     0\n",
      "     0     0     0     0     0     0     0     0     0     0     0     0\n",
      "     0     0     0     0     0     0     0     0     0     0     0     0\n",
      "     0     0     0     0     0     0     0     0     0     0     0     0\n",
      "     0     0     0     0     0     0     0     0     0     0     0     0\n",
      "     0     0     0     0     0     0     0     0     0     0     0     0\n",
      "     0     0     0     0     0     0     0     0     0     0     0     0\n",
      "     0     0     0     0     0     0     0     0     0     0     0     0\n",
      "     0     0     0     0     0     0     0     0     0     0     0     0\n",
      "     0     0     0     0     0     0     0     0     0     0     0     0\n",
      "     0     0     0     0     0     0     0     0     0     0     0     0\n",
      "     0     0     0     0     0     0     0     0     0     0     0     0\n",
      "     0     0     0     0     0     0     0     0     0     0     0     0\n",
      "     0     0     0     0     0     0     0     0     0     0     0     0\n",
      "     0     0     0     0     0     0     0     0     0     0     0     0\n",
      "     0     0     0     0     0     0     0     0     0     0     0     0\n",
      "     0     0     0     0     0     0     0     0     0     0     0     0\n",
      "     0     0     0     0     0     0     0     0     0     0     0     0\n",
      "     0     0     0     0     0     0     0     0     0     0     0     0\n",
      "     0     0     0     0     0     0     0     0     0     0     0     0\n",
      "     0     0     0     0     0     0     0     0     0     0     0     0\n",
      "     0     0     0     0     0     0     0     0     0     0     0     0\n",
      "     0     0     0     0     0     0     0     0     0     0     0     0\n",
      "     0     0     0     0     0     0     0     0     0     0     0     0\n",
      "     0     0     0     0     0     0     0     0     0     0     0     0\n",
      "     0     0     0     0     0     0     0     0     0     0     0     0\n",
      "     0     0     0     0     0     0     0     0     0     0     0     0\n",
      "     0     0     0     0     0     0     0     0     0     0     0     0\n",
      "     0     0     0     0     0     0     0     0     0     0     0     0\n",
      "     0     0     0     0     0     0     0     0     0     0     0     0\n",
      "     0     0     0     0     0     0     0     0     0     0     0     0\n",
      "     0     0     0     0     0     0     0     0     0     0     0     0\n",
      "     0     0     0     0     0     0     0     0     0     0     0     0\n",
      "     0     0     0     0     0     0     0     0     0     0     0     0\n",
      "     0     0     0     0     0     0     0     0     0     0     0     0\n",
      "     0     0     0     0     0     0     0     0     0     0     0     0\n",
      "     0     0     0     0     0     0     0     0     0     0     0     0\n",
      "     0     0     0     0     0     0     0     0     0     0     0     0\n",
      "     0     0     0     0     0     0     0     0     0     0     0     0\n",
      "     0     0     0     0     0     0     0     0     0     0     0     0\n",
      "     0     0     0     0     0     0     0     0     0     0     0]\n",
      "[1 1 1 1 1 1 1 3 3 1 3 0 0 0 0 0 0 0 0 0 0 0 0 0 0 0 0 0 0 0 0 0 0 0 0 0 0\n",
      " 0 0 0 0 0 0 0 0 0 0 0 0 0 0 0 0 0 0 0 0 0 0 0 0 0 0 0 0 0 0 0 0 0 0 0 0 0\n",
      " 0 0 0 0 0 0 0 0 0 0 0 0 0 0 0 0 0 0 0 0 0 0 0 0 0 0 0 0 0 0 0 0 0 0 0 0 0\n",
      " 0 0 0 0 0 0 0 0 0 0 0 0 0 0 0 0 0 0 0 0 0 0 0 0 0 0 0 0 0 0 0 0 0 0 0 0 0\n",
      " 0 0 0 0 0 0 0 0 0 0 0 0 0 0 0 0 0 0 0 0 0 0 0 0 0 0 0 0 0 0 0 0 0 0 0 0 0\n",
      " 0 0 0 0 0 0 0 0 0 0 0 0 0 0 0 0 0 0 0 0 0 0 0 0 0 0 0 0 0 0 0 0 0 0 0 0 0\n",
      " 0 0 0 0 0 0 0 0 0 0 0 0 0 0 0 0 0 0 0 0 0 0 0 0 0 0 0 0 0 0 0 0 0 0 0 0 0\n",
      " 0 0 0 0 0 0 0 0 0 0 0 0 0 0 0 0 0 0 0 0 0 0 0 0 0 0 0 0 0 0 0 0 0 0 0 0 0\n",
      " 0 0 0 0 0 0 0 0 0 0 0 0 0 0 0 0 0 0 0 0 0 0 0 0 0 0 0 0 0 0 0 0 0 0 0 0 0\n",
      " 0 0 0 0 0 0 0 0 0 0 0 0 0 0 0 0 0 0 0 0 0 0 0 0 0 0 0 0 0 0 0 0 0 0 0 0 0\n",
      " 0 0 0 0 0 0 0 0 0 0 0 0 0 0 0 0 0 0 0 0 0 0 0 0 0 0 0 0 0 0 0 0 0 0 0 0 0\n",
      " 0 0 0 0 0 0 0 0 0 0 0 0 0 0 0 0 0 0 0 0 0 0 0 0 0 0 0 0 0 0 0 0 0 0 0 0 0\n",
      " 0 0 0 0 0 0 0 0 0 0 0 0 0 0 0 0 0 0 0 0 0 0 0 0 0 0 0 0 0 0 0 0 0 0 0 0 0\n",
      " 0 0 0 0 0 0 0 0 0 0 0 0 0 0 0 0 0 0 0 0 0 0 0 0 0 0 0 0 0 0 0 0 0 0 0 0 0\n",
      " 0 0 0 0 0 0 0 0 0 0 0 0 0 0 0 0 0 0 0 0 0 0 0 0 0 0 0 0 0 0 0 0 0 0 0 0 0\n",
      " 0 0 0 0 0 0 0 0 0 0 0 0 0 0 0 0 0 0 0 0 0 0 0 0 0 0 0 0 0 0 0 0 0 0 0 0 0\n",
      " 0 0 0 0 0 0 0 0 0 0 0 0 0 0 0 0 0 0 0 0 0 0 0 0 0 0 0 0 0 0 0 0 0 0 0 0 0\n",
      " 0 0 0 0 0 0]\n"
     ]
    }
   ],
   "source": [
    "from keras.preprocessing.sequence import pad_sequences\n",
    " \n",
    "# add special padding at the end of every instance, up to MAX_LENGTH\n",
    "train_sentences = pad_sequences(train_sentences, maxlen=MAX_LENGTH, padding='post')\n",
    "test_sentences = pad_sequences(test_sentences, maxlen=MAX_LENGTH, padding='post')\n",
    "train_tags = pad_sequences(train_tags, maxlen=MAX_LENGTH, padding='post')\n",
    "test_tags = pad_sequences(test_tags, maxlen=MAX_LENGTH, padding='post')\n",
    " \n",
    "print(train_sentences[0])\n",
    "print(train_tags[0])"
   ]
  },
  {
   "cell_type": "markdown",
   "id": "51e61d9a",
   "metadata": {},
   "source": [
    "## Long Short-Term Memory"
   ]
  },
  {
   "cell_type": "code",
   "execution_count": null,
   "id": "TZSQvQkqFqZb",
   "metadata": {
    "id": "TZSQvQkqFqZb"
   },
   "outputs": [],
   "source": [
    "# Importing necessary packages\n",
    "from tensorflow.keras.layers import Embedding\n",
    "from tensorflow.keras.preprocessing.sequence import pad_sequences\n",
    "from tensorflow.keras.models import Sequential\n",
    "from tensorflow.keras.preprocessing.text import one_hot\n",
    "from tensorflow.keras.layers import LSTM, Dense, Dropout\n",
    "from tensorflow.keras.layers import BatchNormalization\n",
    "from tensorflow.keras.utils import to_categorical\n",
    "from tensorflow.keras.layers import Activation\n",
    "from keras.models import Model\n",
    "from keras.layers import Input, Embedding\n",
    "from keras.layers import Bidirectional, LSTM\n",
    "from keras.layers import Dropout, Dense, Activation"
   ]
  },
  {
   "cell_type": "code",
   "execution_count": null,
   "id": "3e575005",
   "metadata": {
    "colab": {
     "base_uri": "https://localhost:8080/"
    },
    "id": "3e575005",
    "outputId": "9dbc5abd-15a8-43ae-cc6e-6eb3beb90df1"
   },
   "outputs": [
    {
     "name": "stdout",
     "output_type": "stream",
     "text": [
      "Model: \"sequential\"\n",
      "_________________________________________________________________\n",
      " Layer (type)                Output Shape              Param #   \n",
      "=================================================================\n",
      " embedding (Embedding)       (None, 573, 128)          1298048   \n",
      "                                                                 \n",
      " batch_normalization (BatchN  (None, 573, 128)         512       \n",
      " ormalization)                                                   \n",
      "                                                                 \n",
      " activation (Activation)     (None, 573, 128)          0         \n",
      "                                                                 \n",
      " dropout (Dropout)           (None, 573, 128)          0         \n",
      "                                                                 \n",
      " lstm (LSTM)                 (None, 573, 256)          394240    \n",
      "                                                                 \n",
      " dropout_1 (Dropout)         (None, 573, 256)          0         \n",
      "                                                                 \n",
      " dense (Dense)               (None, 573, 4)            1028      \n",
      "                                                                 \n",
      "=================================================================\n",
      "Total params: 1,693,828\n",
      "Trainable params: 1,693,572\n",
      "Non-trainable params: 256\n",
      "_________________________________________________________________\n"
     ]
    }
   ],
   "source": [
    "# Implementing LSTM model to classify the severity of the posts.\n",
    "model = Sequential()\n",
    "\n",
    "model.add(Input((MAX_LENGTH, ), name='word_IDs'))\n",
    "model.add(Embedding(input_dim=len(word2int), output_dim=128, mask_zero=True))\n",
    "\n",
    "model.add(BatchNormalization())\n",
    "model.add(Activation(\"relu\"))\n",
    "model.add(Dropout(0.3))\n",
    "model.add(LSTM(256,return_sequences=True))\n",
    "model.add(Dropout(0.3))\n",
    "model.add(Dense(len(tag2int), activation = \"sigmoid\"))\n",
    "\n",
    "model.summary()"
   ]
  },
  {
   "cell_type": "code",
   "execution_count": null,
   "id": "l0lwfKOuHMJZ",
   "metadata": {
    "colab": {
     "base_uri": "https://localhost:8080/"
    },
    "id": "l0lwfKOuHMJZ",
    "outputId": "d5d05165-6cdf-46a4-eaae-679f01892159"
   },
   "outputs": [
    {
     "data": {
      "text/plain": [
       "array([[2, 1, 2, ..., 0, 0, 0],\n",
       "       [1, 1, 1, ..., 0, 0, 0],\n",
       "       [1, 0, 0, ..., 0, 0, 0],\n",
       "       ...,\n",
       "       [1, 1, 1, ..., 0, 0, 0],\n",
       "       [1, 1, 1, ..., 0, 0, 0],\n",
       "       [1, 1, 1, ..., 0, 0, 0]], dtype=int32)"
      ]
     },
     "execution_count": 61,
     "metadata": {},
     "output_type": "execute_result"
    }
   ],
   "source": [
    "test_tags"
   ]
  },
  {
   "cell_type": "code",
   "execution_count": null,
   "id": "gs37XwGbFlHW",
   "metadata": {
    "colab": {
     "base_uri": "https://localhost:8080/"
    },
    "id": "gs37XwGbFlHW",
    "outputId": "5ac5013e-8b0d-4f07-ed61-64de6cad2b8a"
   },
   "outputs": [
    {
     "name": "stdout",
     "output_type": "stream",
     "text": [
      "[1 1 3 1 1 1 1 1 1 1 1 1 2 1 3 1 1 1 3 1 1 3 1 1 1 1 1 1 1 1 1 1 1 1 1 1 1\n",
      " 1 1 1 0 0 0 0 0 0 0 0 0 0 0 0 0 0 0 0 0 0 0 0 0 0 0 0 0 0 0 0 0 0 0 0 0 0\n",
      " 0 0 0 0 0 0 0 0 0 0 0 0 0 0 0 0 0 0 0 0 0 0 0 0 0 0 0 0 0 0 0 0 0 0 0 0 0\n",
      " 0 0 0 0 0 0 0 0 0 0 0 0 0 0 0 0 0 0 0 0 0 0 0 0 0 0 0 0 0 0 0 0 0 0 0 0 0\n",
      " 0 0 0 0 0 0 0 0 0 0 0 0 0 0 0 0 0 0 0 0 0 0 0 0 0 0 0 0 0 0 0 0 0 0 0 0 0\n",
      " 0 0 0 0 0 0 0 0 0 0 0 0 0 0 0 0 0 0 0 0 0 0 0 0 0 0 0 0 0 0 0 0 0 0 0 0 0\n",
      " 0 0 0 0 0 0 0 0 0 0 0 0 0 0 0 0 0 0 0 0 0 0 0 0 0 0 0 0 0 0 0 0 0 0 0 0 0\n",
      " 0 0 0 0 0 0 0 0 0 0 0 0 0 0 0 0 0 0 0 0 0 0 0 0 0 0 0 0 0 0 0 0 0 0 0 0 0\n",
      " 0 0 0 0 0 0 0 0 0 0 0 0 0 0 0 0 0 0 0 0 0 0 0 0 0 0 0 0 0 0 0 0 0 0 0 0 0\n",
      " 0 0 0 0 0 0 0 0 0 0 0 0 0 0 0 0 0 0 0 0 0 0 0 0 0 0 0 0 0 0 0 0 0 0 0 0 0\n",
      " 0 0 0 0 0 0 0 0 0 0 0 0 0 0 0 0 0 0 0 0 0 0 0 0 0 0 0 0 0 0 0 0 0 0 0 0 0\n",
      " 0 0 0 0 0 0 0 0 0 0 0 0 0 0 0 0 0 0 0 0 0 0 0 0 0 0 0 0 0 0 0 0 0 0 0 0 0\n",
      " 0 0 0 0 0 0 0 0 0 0 0 0 0 0 0 0 0 0 0 0 0 0 0 0 0 0 0 0 0 0 0 0 0 0 0 0 0\n",
      " 0 0 0 0 0 0 0 0 0 0 0 0 0 0 0 0 0 0 0 0 0 0 0 0 0 0 0 0 0 0 0 0 0 0 0 0 0\n",
      " 0 0 0 0 0 0 0 0 0 0 0 0 0 0 0 0 0 0 0 0 0 0 0 0 0 0 0 0 0 0 0 0 0 0 0 0 0\n",
      " 0 0 0 0 0 0 0 0 0 0 0 0 0 0 0 0 0 0]\n",
      "(573, 4)\n",
      "[[0. 1. 0. 0.]\n",
      " [0. 1. 0. 0.]\n",
      " [0. 0. 0. 1.]\n",
      " ...\n",
      " [1. 0. 0. 0.]\n",
      " [1. 0. 0. 0.]\n",
      " [1. 0. 0. 0.]]\n"
     ]
    }
   ],
   "source": [
    "\n",
    "train_tags_1hot = to_categorical(train_tags, len(tag2int))\n",
    "test_tags_1hot = to_categorical(test_tags, len(tag2int))\n",
    "\n",
    "# originally 50 tag IDs\n",
    "print(train_tags[0])\n",
    "# now 50 rows with 13 columns\n",
    "print(train_tags_1hot[0].shape)\n",
    "# the 1-hot encoding of tag ID 7\n",
    "print(train_tags_1hot[0])\n"
   ]
  },
  {
   "cell_type": "code",
   "execution_count": null,
   "id": "J6wtIhkiHmJY",
   "metadata": {
    "colab": {
     "base_uri": "https://localhost:8080/"
    },
    "id": "J6wtIhkiHmJY",
    "outputId": "2eaa2462-d469-438b-caa8-02e91e42adef"
   },
   "outputs": [
    {
     "data": {
      "text/plain": [
       "(3579, 573)"
      ]
     },
     "execution_count": 63,
     "metadata": {},
     "output_type": "execute_result"
    }
   ],
   "source": [
    "train_sentences.shape"
   ]
  },
  {
   "cell_type": "code",
   "execution_count": null,
   "id": "c_wJOXNTHpLt",
   "metadata": {
    "colab": {
     "base_uri": "https://localhost:8080/"
    },
    "id": "c_wJOXNTHpLt",
    "outputId": "e2e685ff-eb7f-4ccf-f3df-fa6c624cb0a2"
   },
   "outputs": [
    {
     "data": {
      "text/plain": [
       "(3579, 573, 4)"
      ]
     },
     "execution_count": 64,
     "metadata": {},
     "output_type": "execute_result"
    }
   ],
   "source": [
    "train_tags_1hot.shape"
   ]
  },
  {
   "cell_type": "code",
   "execution_count": null,
   "id": "Ud_v6A17GxtR",
   "metadata": {
    "colab": {
     "base_uri": "https://localhost:8080/"
    },
    "id": "Ud_v6A17GxtR",
    "outputId": "8ca1e24d-0153-40de-c447-4dbe22726522"
   },
   "outputs": [
    {
     "name": "stdout",
     "output_type": "stream",
     "text": [
      "Epoch 1/10\n",
      "157/157 [==============================] - 18s 33ms/step - loss: 0.0154 - accuracy: 0.9045 - val_loss: 0.0562 - val_accuracy: 0.8965\n",
      "Epoch 2/10\n",
      "157/157 [==============================] - 4s 24ms/step - loss: 0.0065 - accuracy: 0.9422 - val_loss: 0.0260 - val_accuracy: 0.9346\n",
      "Epoch 3/10\n",
      "157/157 [==============================] - 4s 23ms/step - loss: 0.0061 - accuracy: 0.9452 - val_loss: 0.0103 - val_accuracy: 0.9390\n",
      "Epoch 4/10\n",
      "157/157 [==============================] - 4s 24ms/step - loss: 0.0056 - accuracy: 0.9533 - val_loss: 0.0068 - val_accuracy: 0.9443\n",
      "Epoch 5/10\n",
      "157/157 [==============================] - 4s 25ms/step - loss: 0.0051 - accuracy: 0.9598 - val_loss: 0.0072 - val_accuracy: 0.9447\n",
      "Epoch 6/10\n",
      "157/157 [==============================] - 4s 24ms/step - loss: 0.0046 - accuracy: 0.9646 - val_loss: 0.0077 - val_accuracy: 0.9398\n",
      "Epoch 7/10\n",
      "157/157 [==============================] - 4s 23ms/step - loss: 0.0041 - accuracy: 0.9705 - val_loss: 0.0086 - val_accuracy: 0.9431\n",
      "Epoch 8/10\n",
      "157/157 [==============================] - 4s 23ms/step - loss: 0.0037 - accuracy: 0.9729 - val_loss: 0.0092 - val_accuracy: 0.9410\n",
      "Epoch 9/10\n",
      "157/157 [==============================] - 4s 24ms/step - loss: 0.0034 - accuracy: 0.9771 - val_loss: 0.0095 - val_accuracy: 0.9416\n",
      "Epoch 10/10\n",
      "157/157 [==============================] - 4s 23ms/step - loss: 0.0029 - accuracy: 0.9799 - val_loss: 0.0118 - val_accuracy: 0.9389\n"
     ]
    }
   ],
   "source": [
    "batch_size = 16\n",
    "epochs = 10\n",
    "\n",
    "# # compile the model we have defined above\n",
    "model.compile(loss='categorical_crossentropy', optimizer='adam',metrics=['accuracy'])\n",
    "\n",
    "# run training and capture ouput log\n",
    "history = model.fit(train_sentences, train_tags_1hot,\n",
    "                    batch_size=batch_size,\n",
    "                    epochs=epochs,\n",
    "                    verbose=1,\n",
    "                    validation_split=0.3)"
   ]
  },
  {
   "cell_type": "code",
   "execution_count": null,
   "id": "pe-Ifgck6m4n",
   "metadata": {
    "colab": {
     "base_uri": "https://localhost:8080/",
     "height": 279
    },
    "id": "pe-Ifgck6m4n",
    "outputId": "7f13676b-60b2-45dc-adcc-78baecd81583"
   },
   "outputs": [
    {
     "data": {
      "image/png": "[encoded data removed]",
      "text/plain": [
       "<Figure size 432x288 with 1 Axes>"
      ]
     },
     "metadata": {
      "needs_background": "light"
     },
     "output_type": "display_data"
    }
   ],
   "source": [
    "from matplotlib import pyplot as plt\n",
    "training_accuracy = history.history['accuracy']\n",
    "test_accuracy = history.history['val_accuracy']\n",
    "\n",
    "# Create count of the number of epochs\n",
    "epoch_count = range(1, len(training_accuracy) + 1)\n",
    "\n",
    "# Visualize loss history\n",
    "plt.plot(epoch_count, training_accuracy, 'r--')\n",
    "plt.plot(epoch_count, test_accuracy, 'b-')\n",
    "plt.legend(['Training Accuracy', 'Test Accuracy'])\n",
    "plt.xlabel('Epoch')\n",
    "plt.ylabel('Accuracy')\n",
    "plt.show();"
   ]
  },
  {
   "cell_type": "code",
   "execution_count": null,
   "id": "36gshDVT6c52",
   "metadata": {
    "colab": {
     "base_uri": "https://localhost:8080/",
     "height": 279
    },
    "id": "36gshDVT6c52",
    "outputId": "aeda62c3-f356-42d5-e367-b4b5c03fb521"
   },
   "outputs": [
    {
     "data": {
      "image/png": "[encoded data removed]",
      "text/plain": [
       "<Figure size 432x288 with 1 Axes>"
      ]
     },
     "metadata": {
      "needs_background": "light"
     },
     "output_type": "display_data"
    }
   ],
   "source": [
    "from matplotlib import pyplot as plt\n",
    "training_loss = history.history['loss']\n",
    "test_loss = history.history['val_loss']\n",
    "\n",
    "# Create count of the number of epochs\n",
    "epoch_count = range(1, len(training_loss) + 1)\n",
    "\n",
    "# Visualize loss history\n",
    "plt.plot(epoch_count, training_loss, 'r--')\n",
    "plt.plot(epoch_count, test_loss, 'b-')\n",
    "plt.legend(['Training Loss', 'Test Loss'])\n",
    "plt.xlabel('Epoch')\n",
    "plt.ylabel('Loss')\n",
    "plt.show();"
   ]
  },
  {
   "cell_type": "code",
   "execution_count": null,
   "id": "lLKRGZfbG2Ui",
   "metadata": {
    "id": "lLKRGZfbG2Ui"
   },
   "outputs": [],
   "source": [
    " "
   ]
  }
 ],
 "metadata": {
  "accelerator": "GPU",
  "colab": {
   "collapsed_sections": [],
   "name": "LSTM_LDA-2.ipynb",
   "provenance": []
  },
  "kernelspec": {
   "display_name": "Python 3 (ipykernel)",
   "language": "python",
   "name": "python3"
  },
  "language_info": {
   "codemirror_mode": {
    "name": "ipython",
    "version": 3
   },
   "file_extension": ".py",
   "mimetype": "text/x-python",
   "name": "python",
   "nbconvert_exporter": "python",
   "pygments_lexer": "ipython3",
   "version": "3.7.6"
  }
 },
 "nbformat": 4,
 "nbformat_minor": 5
}
